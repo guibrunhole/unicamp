{
 "cells": [
  {
   "cell_type": "code",
   "execution_count": 1,
   "metadata": {
    "collapsed": true
   },
   "outputs": [],
   "source": [
    "import pandas as pd\n",
    "from sklearn.utils import shuffle\n",
    "from sklearn.model_selection import train_test_split\n",
    "from sklearn.tree import DecisionTreeClassifier as dc\n",
    "from sklearn.svm import SVC as svm\n",
    "from sklearn.linear_model import LogisticRegression as lr\n",
    "from sklearn.naive_bayes import GaussianNB as nb\n",
    "\n",
    "\n",
    "from sklearn.metrics import confusion_matrix as cm\n",
    "from sklearn.metrics import recall_score as recall\n",
    "from sklearn.metrics import precision_score as precision\n",
    "from sklearn.metrics import accuracy_score as acc"
   ]
  },
  {
   "cell_type": "code",
   "execution_count": 2,
   "metadata": {
    "collapsed": true
   },
   "outputs": [],
   "source": [
    "creditcard = pd.read_csv('creditcard.csv', encoding='ISO-8859-1')"
   ]
  },
  {
   "cell_type": "code",
   "execution_count": 3,
   "metadata": {
    "collapsed": true
   },
   "outputs": [],
   "source": [
    "frauds = creditcard[creditcard.Class == 1]\n",
    "\n",
    "#Downsampling the normal credit card transactions\n",
    "normals = creditcard[creditcard.Class == 0]\n",
    "\n",
    "#upsampling the fraus credit card transactions\n",
    "sets = frauds\n",
    "for i in range(0, int(len(normals)/len(frauds))):\n",
    "    sets = frauds.append(sets)\n",
    "\n",
    "#shuffling the multipled frauds data now\n",
    "sets = sets[0:len(normals)]"
   ]
  },
  {
   "cell_type": "code",
   "execution_count": 4,
   "metadata": {
    "collapsed": true
   },
   "outputs": [],
   "source": [
    "normals = normals.append(sets)\n",
    "zeros = normals[normals.Amount==0]\n",
    "ones = normals[normals.Amount == 1]\n",
    "\n",
    "normals = normals[(normals.Amount!=0) & (normals.Amount!=1)]\n",
    "#normals = normals[normals.Amount >= 1]\n",
    "normals = normals.append(zeros[:1400]).append(ones[0:10000])\n",
    "ones = ones[10000:].append(zeros[1400:])"
   ]
  },
  {
   "cell_type": "code",
   "execution_count": 5,
   "metadata": {
    "collapsed": true
   },
   "outputs": [],
   "source": [
    "rand=42\n",
    "#shuffling the balanced data now\n",
    "normals = shuffle(normals, random_state = rand)\n",
    "'''\n",
    "splitted the data set into features(x) and targets(y)\n",
    "'''\n",
    "y = normals['Class']\n",
    "del normals['Class']\n",
    "x = normals\n",
    "#splitted the x&y dataframes into training and test datasets\n",
    "x_train, x_test, y_train, y_test = train_test_split(x,y, test_size = 0.1, random_state = rand)\n"
   ]
  },
  {
   "cell_type": "markdown",
   "metadata": {},
   "source": [
    "## Decision Tree"
   ]
  },
  {
   "cell_type": "code",
   "execution_count": 6,
   "metadata": {
    "scrolled": true
   },
   "outputs": [
    {
     "name": "stdout",
     "output_type": "stream",
     "text": [
      "[[27903     9]\n",
      " [    0 20463]]\n",
      "1.0\n",
      "1.0\n",
      "1.0\n",
      "0.99983877902\n"
     ]
    }
   ],
   "source": [
    "clf = dc(random_state= rand)\n",
    "clf.fit(x_train, y_train)\n",
    "features = normals.columns\n",
    "scores = clf.feature_importances_\n",
    "\n",
    "y_result = clf.predict(x_test)\n",
    "\n",
    "\n",
    "print(cm(y_test, y_result))\n",
    "#recall score\n",
    "print(recall(y_test, y_result))\n",
    "#precision score\n",
    "print(round(precision(y_test, y_result),3))\n",
    "#accuracy score\n",
    "print(round(acc(y_test, y_result),3))\n",
    "from sklearn.metrics import roc_curve\n",
    "from sklearn.metrics import auc\n",
    "fpr, tpr, thresholds = roc_curve(y_test, y_result)\n",
    "print(auc(fpr, tpr))"
   ]
  },
  {
   "cell_type": "markdown",
   "metadata": {},
   "source": [
    "Observações:\n",
    "- Treinamento super rápido\n",
    "- Acurácia superior à 98%"
   ]
  },
  {
   "cell_type": "markdown",
   "metadata": {},
   "source": [
    "## SVM"
   ]
  },
  {
   "cell_type": "code",
   "execution_count": null,
   "metadata": {
    "collapsed": true
   },
   "outputs": [],
   "source": [
    "clf = svm(random_state= rand)\n",
    "clf.fit(x_train, y_train)\n",
    "features = normals.columns\n",
    "\n",
    "y_result = clf.predict(x_test)\n",
    "\n",
    "\n",
    "print(cm(y_test, y_result))\n",
    "#recall score\n",
    "print(recall(y_test, y_result))\n",
    "#precision score\n",
    "print(round(precision(y_test, y_result),3))\n",
    "#accuracy score\n",
    "print(round(acc(y_test, y_result),3))\n",
    "from sklearn.metrics import roc_curve\n",
    "from sklearn.metrics import auc\n",
    "fpr, tpr, thresholds = roc_curve(y_test, y_result)\n",
    "print(auc(fpr, tpr))"
   ]
  },
  {
   "cell_type": "markdown",
   "metadata": {},
   "source": [
    "## Logistic Regression"
   ]
  },
  {
   "cell_type": "code",
   "execution_count": 7,
   "metadata": {},
   "outputs": [
    {
     "name": "stdout",
     "output_type": "stream",
     "text": [
      "[[27448   464]\n",
      " [ 3084 17379]]\n",
      "0.849288960563\n",
      "0.974\n",
      "0.927\n",
      "0.916332643079\n"
     ]
    }
   ],
   "source": [
    "clf = lr(random_state= rand)\n",
    "clf.fit(x_train, y_train)\n",
    "features = normals.columns\n",
    "\n",
    "y_result = clf.predict(x_test)\n",
    "\n",
    "\n",
    "print(cm(y_test, y_result))\n",
    "#recall score\n",
    "print(recall(y_test, y_result))\n",
    "#precision score\n",
    "print(round(precision(y_test, y_result),3))\n",
    "#accuracy score\n",
    "print(round(acc(y_test, y_result),3))\n",
    "from sklearn.metrics import roc_curve\n",
    "from sklearn.metrics import auc\n",
    "fpr, tpr, thresholds = roc_curve(y_test, y_result)\n",
    "print(auc(fpr, tpr))"
   ]
  },
  {
   "cell_type": "markdown",
   "metadata": {},
   "source": [
    "## Nayve Bayes"
   ]
  },
  {
   "cell_type": "code",
   "execution_count": 9,
   "metadata": {},
   "outputs": [
    {
     "name": "stdout",
     "output_type": "stream",
     "text": [
      "[[27632   280]\n",
      " [ 5161 15302]]\n",
      "0.747788691785\n",
      "0.982\n",
      "0.888\n",
      "0.868878582063\n"
     ]
    }
   ],
   "source": [
    "clf = nb()\n",
    "clf.fit(x_train, y_train)\n",
    "features = normals.columns\n",
    "\n",
    "y_result = clf.predict(x_test)\n",
    "\n",
    "\n",
    "print(cm(y_test, y_result))\n",
    "#recall score\n",
    "print(recall(y_test, y_result))\n",
    "#precision score\n",
    "print(round(precision(y_test, y_result),3))\n",
    "#accuracy score\n",
    "print(round(acc(y_test, y_result),3))\n",
    "from sklearn.metrics import roc_curve\n",
    "from sklearn.metrics import auc\n",
    "fpr, tpr, thresholds = roc_curve(y_test, y_result)\n",
    "print(auc(fpr, tpr))"
   ]
  },
  {
   "cell_type": "markdown",
   "metadata": {},
   "source": [
    "Comentários:\n",
    "    - Absurdamente mais rápido\n",
    "    - Acurária não tão boa"
   ]
  }
 ],
 "metadata": {
  "kernelspec": {
   "display_name": "Python 2",
   "language": "python",
   "name": "python2"
  },
  "language_info": {
   "codemirror_mode": {
    "name": "ipython",
    "version": 2
   },
   "file_extension": ".py",
   "mimetype": "text/x-python",
   "name": "python",
   "nbconvert_exporter": "python",
   "pygments_lexer": "ipython2",
   "version": "2.7.13"
  }
 },
 "nbformat": 4,
 "nbformat_minor": 2
}
