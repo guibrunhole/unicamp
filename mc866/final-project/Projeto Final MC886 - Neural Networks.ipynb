{
 "cells": [
  {
   "cell_type": "markdown",
   "metadata": {},
   "source": [
    "# Detectando Fraudes Bancárias"
   ]
  },
  {
   "cell_type": "markdown",
   "metadata": {},
   "source": [
    "## Introdução<br>\n",
    "Em 2016 o número de transações bancárias no Brasil atingiu a marca de 65 bilhões, um aumento de 17% em relação ao ano anterior [this][1], sendo que as operações através de *internet banking* e *mobile banking* representaram 57% do total de transações bancárias realizadas no período. Neste mesmo ano, as fraudes realizadas através de boletos bancários somaram um total de 383 milhões de reais [this][2].<br>\n",
    "   \n",
    "Em 2017, os bancos e instituições financeiras, desembolsaram só com despesas em segurança de tecnologia da informação um total de 2 bilhões de reais [this][3]. Nos últimos 2 anos, o número de transações bancárias realizadas através de meios digitais e o investimento em segurança aumentaram e, em contrapartida, o número de fraudes bancárias com boletos (por exemplo), vem crescendo e gerando um prejuízo considerável aos bancos e seus clientes.<br>\n",
    "    \n",
    "Tal prejuízo pode ser mitigado, como já é feito em transações bancárias de determinados bancos, com o uso das tecnologias em Machine Learning e Pattern Recognition, sendo possível classificar, identificar e bloquear as fraudes bancárias que estão acontecendo.<br>\n",
    "\n",
    "## Qual é o objetivo desse estudo?<br>\n",
    "Dado a importacia da identificação da autenticidade de uma transação bancária para várias instituições financeiras, propomos aqui investigar o problema de “detecção de fraudes bancárias”.<br>\n",
    "    \n",
    "Como não encontramos nenhuma base nacional (brasileira), utilizamos a base de dados \"*Credit Card Fraud Detection. Anonymized credit card transactions labeled as fraudulent or genuine*\" disponível no Kagle através do link <https://www.kaggle.com/dalpozz/creditcardfraud/data><br>\n",
    "\n",
    "##### MELHORAR ESTA PARTE \n",
    "Abordamos os conceitos de Redes Neurais e Deep Learning para processamento dos dados, qualitativamente, esperamos resultados em números que eventualmente podem ser plotados em gráficos para um análise macro de forma visual. Utilizaremos métricas de Erros e Teste como: modelo de treino, modelo de teste, matriz de confusão, acurácia, precisão e recall.\n",
    "\n",
    "[1]: Pesquisa FEBRABAN de Tecnologia Bancária 2017, <https://cmsportal.febraban.org.br/Arquivos/documentos/PDF/Pesquisa%20FEBRABAN%20de%20Tecnologia%20Banc%C3%A1ria%202017.pdf><br>\n",
    "[2]: Fraudes com boletos somam R$ 383 milhões em 2016, segundo Febraban, <http://www.valor.com.br/financas/4864120/fraudes-com-boletos-somam-r-383-milhoes-em-2016-segundo-febraban> <br>\n",
    "[3]: Combate sem trégua às fraudes eletrônicas, <https://portal.febraban.org.br/noticia/3127/pt-br/><br>"
   ]
  },
  {
   "cell_type": "markdown",
   "metadata": {},
   "source": [
    "## Índice:<br>\n",
    "1.  **Legenda dos Campos da Base de Dados**\n",
    "*   **Checando a quantidade de registros**\n",
    "*  **Limpando os dados**\n",
    "*  **Realizando as análises**\n",
    "*  **Visualizando as análises**\n",
    "*  ***Add mais coisas.... ((((((((((((((((((((((((((((((((( ***\n",
    "*  **Conclusão**"
   ]
  },
  {
   "cell_type": "markdown",
   "metadata": {},
   "source": [
    "### 1. Legenda dos Campos da Base de Dados:\n",
    "\n",
    "1. Metadados das Colunas:\n",
    "    * V1 à V 28 - Componentes Principais<br>\n",
    "    * Amount - *Quantidade de Transações*<br>\n",
    "    * Class - As classes de classificação reais<br>"
   ]
  },
  {
   "cell_type": "code",
   "execution_count": 24,
   "metadata": {},
   "outputs": [
    {
     "name": "stderr",
     "output_type": "stream",
     "text": [
      "/Users/guilherme.brunhole/anaconda2/lib/python2.7/site-packages/ggplot/utils.py:81: FutureWarning: pandas.tslib is deprecated and will be removed in a future version.\n",
      "You can access Timestamp as pandas.Timestamp\n",
      "  pd.tslib.Timestamp,\n",
      "/Users/guilherme.brunhole/anaconda2/lib/python2.7/site-packages/ggplot/stats/smoothers.py:4: FutureWarning: The pandas.lib module is deprecated and will be removed in a future version. These are private functions and can be accessed from pandas._libs.lib instead\n",
      "  from pandas.lib import Timestamp\n",
      "/Users/guilherme.brunhole/anaconda2/lib/python2.7/site-packages/statsmodels/compat/pandas.py:56: FutureWarning: The pandas.core.datetools module is deprecated and will be removed in a future version. Please use the pandas.tseries module instead.\n",
      "  from pandas.core import datetools\n"
     ]
    }
   ],
   "source": [
    "%matplotlib inline\n",
    "import pandas as pd # Para criarmos DataFrames\n",
    "import numpy as np # Realizar alguns calculos matemáticos\n",
    "import matplotlib.pyplot as plt # Para criação de gráficos\n",
    "import seaborn as sns # Design de gráficos mais atraentes\n",
    "from ggplot import *"
   ]
  },
  {
   "cell_type": "markdown",
   "metadata": {},
   "source": [
    "### Importando a base de dados"
   ]
  },
  {
   "cell_type": "code",
   "execution_count": 2,
   "metadata": {
    "collapsed": true
   },
   "outputs": [],
   "source": [
    "creditcard = pd.read_csv('creditcard.csv', encoding='ISO-8859-1')"
   ]
  },
  {
   "cell_type": "code",
   "execution_count": 3,
   "metadata": {},
   "outputs": [
    {
     "data": {
      "text/plain": [
       "(284807, 31)"
      ]
     },
     "execution_count": 3,
     "metadata": {},
     "output_type": "execute_result"
    }
   ],
   "source": [
    "creditcard.shape"
   ]
  },
  {
   "cell_type": "markdown",
   "metadata": {},
   "source": [
    "### visualizando as primeiras linhas"
   ]
  },
  {
   "cell_type": "code",
   "execution_count": 4,
   "metadata": {},
   "outputs": [
    {
     "data": {
      "text/html": [
       "<div>\n",
       "<style>\n",
       "    .dataframe thead tr:only-child th {\n",
       "        text-align: right;\n",
       "    }\n",
       "\n",
       "    .dataframe thead th {\n",
       "        text-align: left;\n",
       "    }\n",
       "\n",
       "    .dataframe tbody tr th {\n",
       "        vertical-align: top;\n",
       "    }\n",
       "</style>\n",
       "<table border=\"1\" class=\"dataframe\">\n",
       "  <thead>\n",
       "    <tr style=\"text-align: right;\">\n",
       "      <th></th>\n",
       "      <th>Time</th>\n",
       "      <th>V1</th>\n",
       "      <th>V2</th>\n",
       "      <th>V3</th>\n",
       "      <th>V4</th>\n",
       "      <th>V5</th>\n",
       "      <th>V6</th>\n",
       "      <th>V7</th>\n",
       "      <th>V8</th>\n",
       "      <th>V9</th>\n",
       "      <th>...</th>\n",
       "      <th>V21</th>\n",
       "      <th>V22</th>\n",
       "      <th>V23</th>\n",
       "      <th>V24</th>\n",
       "      <th>V25</th>\n",
       "      <th>V26</th>\n",
       "      <th>V27</th>\n",
       "      <th>V28</th>\n",
       "      <th>Amount</th>\n",
       "      <th>Class</th>\n",
       "    </tr>\n",
       "  </thead>\n",
       "  <tbody>\n",
       "    <tr>\n",
       "      <th>0</th>\n",
       "      <td>0.0</td>\n",
       "      <td>-1.359807</td>\n",
       "      <td>-0.072781</td>\n",
       "      <td>2.536347</td>\n",
       "      <td>1.378155</td>\n",
       "      <td>-0.338321</td>\n",
       "      <td>0.462388</td>\n",
       "      <td>0.239599</td>\n",
       "      <td>0.098698</td>\n",
       "      <td>0.363787</td>\n",
       "      <td>...</td>\n",
       "      <td>-0.018307</td>\n",
       "      <td>0.277838</td>\n",
       "      <td>-0.110474</td>\n",
       "      <td>0.066928</td>\n",
       "      <td>0.128539</td>\n",
       "      <td>-0.189115</td>\n",
       "      <td>0.133558</td>\n",
       "      <td>-0.021053</td>\n",
       "      <td>149.62</td>\n",
       "      <td>0</td>\n",
       "    </tr>\n",
       "    <tr>\n",
       "      <th>1</th>\n",
       "      <td>0.0</td>\n",
       "      <td>1.191857</td>\n",
       "      <td>0.266151</td>\n",
       "      <td>0.166480</td>\n",
       "      <td>0.448154</td>\n",
       "      <td>0.060018</td>\n",
       "      <td>-0.082361</td>\n",
       "      <td>-0.078803</td>\n",
       "      <td>0.085102</td>\n",
       "      <td>-0.255425</td>\n",
       "      <td>...</td>\n",
       "      <td>-0.225775</td>\n",
       "      <td>-0.638672</td>\n",
       "      <td>0.101288</td>\n",
       "      <td>-0.339846</td>\n",
       "      <td>0.167170</td>\n",
       "      <td>0.125895</td>\n",
       "      <td>-0.008983</td>\n",
       "      <td>0.014724</td>\n",
       "      <td>2.69</td>\n",
       "      <td>0</td>\n",
       "    </tr>\n",
       "    <tr>\n",
       "      <th>2</th>\n",
       "      <td>1.0</td>\n",
       "      <td>-1.358354</td>\n",
       "      <td>-1.340163</td>\n",
       "      <td>1.773209</td>\n",
       "      <td>0.379780</td>\n",
       "      <td>-0.503198</td>\n",
       "      <td>1.800499</td>\n",
       "      <td>0.791461</td>\n",
       "      <td>0.247676</td>\n",
       "      <td>-1.514654</td>\n",
       "      <td>...</td>\n",
       "      <td>0.247998</td>\n",
       "      <td>0.771679</td>\n",
       "      <td>0.909412</td>\n",
       "      <td>-0.689281</td>\n",
       "      <td>-0.327642</td>\n",
       "      <td>-0.139097</td>\n",
       "      <td>-0.055353</td>\n",
       "      <td>-0.059752</td>\n",
       "      <td>378.66</td>\n",
       "      <td>0</td>\n",
       "    </tr>\n",
       "    <tr>\n",
       "      <th>3</th>\n",
       "      <td>1.0</td>\n",
       "      <td>-0.966272</td>\n",
       "      <td>-0.185226</td>\n",
       "      <td>1.792993</td>\n",
       "      <td>-0.863291</td>\n",
       "      <td>-0.010309</td>\n",
       "      <td>1.247203</td>\n",
       "      <td>0.237609</td>\n",
       "      <td>0.377436</td>\n",
       "      <td>-1.387024</td>\n",
       "      <td>...</td>\n",
       "      <td>-0.108300</td>\n",
       "      <td>0.005274</td>\n",
       "      <td>-0.190321</td>\n",
       "      <td>-1.175575</td>\n",
       "      <td>0.647376</td>\n",
       "      <td>-0.221929</td>\n",
       "      <td>0.062723</td>\n",
       "      <td>0.061458</td>\n",
       "      <td>123.50</td>\n",
       "      <td>0</td>\n",
       "    </tr>\n",
       "    <tr>\n",
       "      <th>4</th>\n",
       "      <td>2.0</td>\n",
       "      <td>-1.158233</td>\n",
       "      <td>0.877737</td>\n",
       "      <td>1.548718</td>\n",
       "      <td>0.403034</td>\n",
       "      <td>-0.407193</td>\n",
       "      <td>0.095921</td>\n",
       "      <td>0.592941</td>\n",
       "      <td>-0.270533</td>\n",
       "      <td>0.817739</td>\n",
       "      <td>...</td>\n",
       "      <td>-0.009431</td>\n",
       "      <td>0.798278</td>\n",
       "      <td>-0.137458</td>\n",
       "      <td>0.141267</td>\n",
       "      <td>-0.206010</td>\n",
       "      <td>0.502292</td>\n",
       "      <td>0.219422</td>\n",
       "      <td>0.215153</td>\n",
       "      <td>69.99</td>\n",
       "      <td>0</td>\n",
       "    </tr>\n",
       "  </tbody>\n",
       "</table>\n",
       "<p>5 rows × 31 columns</p>\n",
       "</div>"
      ],
      "text/plain": [
       "   Time        V1        V2        V3        V4        V5        V6        V7  \\\n",
       "0   0.0 -1.359807 -0.072781  2.536347  1.378155 -0.338321  0.462388  0.239599   \n",
       "1   0.0  1.191857  0.266151  0.166480  0.448154  0.060018 -0.082361 -0.078803   \n",
       "2   1.0 -1.358354 -1.340163  1.773209  0.379780 -0.503198  1.800499  0.791461   \n",
       "3   1.0 -0.966272 -0.185226  1.792993 -0.863291 -0.010309  1.247203  0.237609   \n",
       "4   2.0 -1.158233  0.877737  1.548718  0.403034 -0.407193  0.095921  0.592941   \n",
       "\n",
       "         V8        V9  ...         V21       V22       V23       V24  \\\n",
       "0  0.098698  0.363787  ...   -0.018307  0.277838 -0.110474  0.066928   \n",
       "1  0.085102 -0.255425  ...   -0.225775 -0.638672  0.101288 -0.339846   \n",
       "2  0.247676 -1.514654  ...    0.247998  0.771679  0.909412 -0.689281   \n",
       "3  0.377436 -1.387024  ...   -0.108300  0.005274 -0.190321 -1.175575   \n",
       "4 -0.270533  0.817739  ...   -0.009431  0.798278 -0.137458  0.141267   \n",
       "\n",
       "        V25       V26       V27       V28  Amount  Class  \n",
       "0  0.128539 -0.189115  0.133558 -0.021053  149.62      0  \n",
       "1  0.167170  0.125895 -0.008983  0.014724    2.69      0  \n",
       "2 -0.327642 -0.139097 -0.055353 -0.059752  378.66      0  \n",
       "3  0.647376 -0.221929  0.062723  0.061458  123.50      0  \n",
       "4 -0.206010  0.502292  0.219422  0.215153   69.99      0  \n",
       "\n",
       "[5 rows x 31 columns]"
      ]
     },
     "execution_count": 4,
     "metadata": {},
     "output_type": "execute_result"
    }
   ],
   "source": [
    "creditcard.head()"
   ]
  },
  {
   "cell_type": "markdown",
   "metadata": {},
   "source": [
    "### Checando a quantidade de registros"
   ]
  },
  {
   "cell_type": "code",
   "execution_count": 5,
   "metadata": {},
   "outputs": [
    {
     "data": {
      "text/html": [
       "<div>\n",
       "<style>\n",
       "    .dataframe thead tr:only-child th {\n",
       "        text-align: right;\n",
       "    }\n",
       "\n",
       "    .dataframe thead th {\n",
       "        text-align: left;\n",
       "    }\n",
       "\n",
       "    .dataframe tbody tr th {\n",
       "        vertical-align: top;\n",
       "    }\n",
       "</style>\n",
       "<table border=\"1\" class=\"dataframe\">\n",
       "  <thead>\n",
       "    <tr style=\"text-align: right;\">\n",
       "      <th></th>\n",
       "      <th>Time</th>\n",
       "      <th>V1</th>\n",
       "      <th>V2</th>\n",
       "      <th>V3</th>\n",
       "      <th>V4</th>\n",
       "      <th>V5</th>\n",
       "      <th>V6</th>\n",
       "      <th>V7</th>\n",
       "      <th>V8</th>\n",
       "      <th>V9</th>\n",
       "      <th>...</th>\n",
       "      <th>V21</th>\n",
       "      <th>V22</th>\n",
       "      <th>V23</th>\n",
       "      <th>V24</th>\n",
       "      <th>V25</th>\n",
       "      <th>V26</th>\n",
       "      <th>V27</th>\n",
       "      <th>V28</th>\n",
       "      <th>Amount</th>\n",
       "      <th>Class</th>\n",
       "    </tr>\n",
       "  </thead>\n",
       "  <tbody>\n",
       "    <tr>\n",
       "      <th>count</th>\n",
       "      <td>284807.000000</td>\n",
       "      <td>2.848070e+05</td>\n",
       "      <td>2.848070e+05</td>\n",
       "      <td>2.848070e+05</td>\n",
       "      <td>2.848070e+05</td>\n",
       "      <td>2.848070e+05</td>\n",
       "      <td>2.848070e+05</td>\n",
       "      <td>2.848070e+05</td>\n",
       "      <td>2.848070e+05</td>\n",
       "      <td>2.848070e+05</td>\n",
       "      <td>...</td>\n",
       "      <td>2.848070e+05</td>\n",
       "      <td>2.848070e+05</td>\n",
       "      <td>2.848070e+05</td>\n",
       "      <td>2.848070e+05</td>\n",
       "      <td>2.848070e+05</td>\n",
       "      <td>2.848070e+05</td>\n",
       "      <td>2.848070e+05</td>\n",
       "      <td>2.848070e+05</td>\n",
       "      <td>284807.000000</td>\n",
       "      <td>284807.000000</td>\n",
       "    </tr>\n",
       "    <tr>\n",
       "      <th>mean</th>\n",
       "      <td>94813.859575</td>\n",
       "      <td>3.919560e-15</td>\n",
       "      <td>5.688174e-16</td>\n",
       "      <td>-8.769071e-15</td>\n",
       "      <td>2.782312e-15</td>\n",
       "      <td>-1.552563e-15</td>\n",
       "      <td>2.010663e-15</td>\n",
       "      <td>-1.694249e-15</td>\n",
       "      <td>-1.927028e-16</td>\n",
       "      <td>-3.137024e-15</td>\n",
       "      <td>...</td>\n",
       "      <td>1.537294e-16</td>\n",
       "      <td>7.959909e-16</td>\n",
       "      <td>5.367590e-16</td>\n",
       "      <td>4.458112e-15</td>\n",
       "      <td>1.453003e-15</td>\n",
       "      <td>1.699104e-15</td>\n",
       "      <td>-3.660161e-16</td>\n",
       "      <td>-1.206049e-16</td>\n",
       "      <td>88.349619</td>\n",
       "      <td>0.001727</td>\n",
       "    </tr>\n",
       "    <tr>\n",
       "      <th>std</th>\n",
       "      <td>47488.145955</td>\n",
       "      <td>1.958696e+00</td>\n",
       "      <td>1.651309e+00</td>\n",
       "      <td>1.516255e+00</td>\n",
       "      <td>1.415869e+00</td>\n",
       "      <td>1.380247e+00</td>\n",
       "      <td>1.332271e+00</td>\n",
       "      <td>1.237094e+00</td>\n",
       "      <td>1.194353e+00</td>\n",
       "      <td>1.098632e+00</td>\n",
       "      <td>...</td>\n",
       "      <td>7.345240e-01</td>\n",
       "      <td>7.257016e-01</td>\n",
       "      <td>6.244603e-01</td>\n",
       "      <td>6.056471e-01</td>\n",
       "      <td>5.212781e-01</td>\n",
       "      <td>4.822270e-01</td>\n",
       "      <td>4.036325e-01</td>\n",
       "      <td>3.300833e-01</td>\n",
       "      <td>250.120109</td>\n",
       "      <td>0.041527</td>\n",
       "    </tr>\n",
       "    <tr>\n",
       "      <th>min</th>\n",
       "      <td>0.000000</td>\n",
       "      <td>-5.640751e+01</td>\n",
       "      <td>-7.271573e+01</td>\n",
       "      <td>-4.832559e+01</td>\n",
       "      <td>-5.683171e+00</td>\n",
       "      <td>-1.137433e+02</td>\n",
       "      <td>-2.616051e+01</td>\n",
       "      <td>-4.355724e+01</td>\n",
       "      <td>-7.321672e+01</td>\n",
       "      <td>-1.343407e+01</td>\n",
       "      <td>...</td>\n",
       "      <td>-3.483038e+01</td>\n",
       "      <td>-1.093314e+01</td>\n",
       "      <td>-4.480774e+01</td>\n",
       "      <td>-2.836627e+00</td>\n",
       "      <td>-1.029540e+01</td>\n",
       "      <td>-2.604551e+00</td>\n",
       "      <td>-2.256568e+01</td>\n",
       "      <td>-1.543008e+01</td>\n",
       "      <td>0.000000</td>\n",
       "      <td>0.000000</td>\n",
       "    </tr>\n",
       "    <tr>\n",
       "      <th>25%</th>\n",
       "      <td>54201.500000</td>\n",
       "      <td>-9.203734e-01</td>\n",
       "      <td>-5.985499e-01</td>\n",
       "      <td>-8.903648e-01</td>\n",
       "      <td>-8.486401e-01</td>\n",
       "      <td>-6.915971e-01</td>\n",
       "      <td>-7.682956e-01</td>\n",
       "      <td>-5.540759e-01</td>\n",
       "      <td>-2.086297e-01</td>\n",
       "      <td>-6.430976e-01</td>\n",
       "      <td>...</td>\n",
       "      <td>-2.283949e-01</td>\n",
       "      <td>-5.423504e-01</td>\n",
       "      <td>-1.618463e-01</td>\n",
       "      <td>-3.545861e-01</td>\n",
       "      <td>-3.171451e-01</td>\n",
       "      <td>-3.269839e-01</td>\n",
       "      <td>-7.083953e-02</td>\n",
       "      <td>-5.295979e-02</td>\n",
       "      <td>5.600000</td>\n",
       "      <td>0.000000</td>\n",
       "    </tr>\n",
       "    <tr>\n",
       "      <th>50%</th>\n",
       "      <td>84692.000000</td>\n",
       "      <td>1.810880e-02</td>\n",
       "      <td>6.548556e-02</td>\n",
       "      <td>1.798463e-01</td>\n",
       "      <td>-1.984653e-02</td>\n",
       "      <td>-5.433583e-02</td>\n",
       "      <td>-2.741871e-01</td>\n",
       "      <td>4.010308e-02</td>\n",
       "      <td>2.235804e-02</td>\n",
       "      <td>-5.142873e-02</td>\n",
       "      <td>...</td>\n",
       "      <td>-2.945017e-02</td>\n",
       "      <td>6.781943e-03</td>\n",
       "      <td>-1.119293e-02</td>\n",
       "      <td>4.097606e-02</td>\n",
       "      <td>1.659350e-02</td>\n",
       "      <td>-5.213911e-02</td>\n",
       "      <td>1.342146e-03</td>\n",
       "      <td>1.124383e-02</td>\n",
       "      <td>22.000000</td>\n",
       "      <td>0.000000</td>\n",
       "    </tr>\n",
       "    <tr>\n",
       "      <th>75%</th>\n",
       "      <td>139320.500000</td>\n",
       "      <td>1.315642e+00</td>\n",
       "      <td>8.037239e-01</td>\n",
       "      <td>1.027196e+00</td>\n",
       "      <td>7.433413e-01</td>\n",
       "      <td>6.119264e-01</td>\n",
       "      <td>3.985649e-01</td>\n",
       "      <td>5.704361e-01</td>\n",
       "      <td>3.273459e-01</td>\n",
       "      <td>5.971390e-01</td>\n",
       "      <td>...</td>\n",
       "      <td>1.863772e-01</td>\n",
       "      <td>5.285536e-01</td>\n",
       "      <td>1.476421e-01</td>\n",
       "      <td>4.395266e-01</td>\n",
       "      <td>3.507156e-01</td>\n",
       "      <td>2.409522e-01</td>\n",
       "      <td>9.104512e-02</td>\n",
       "      <td>7.827995e-02</td>\n",
       "      <td>77.165000</td>\n",
       "      <td>0.000000</td>\n",
       "    </tr>\n",
       "    <tr>\n",
       "      <th>max</th>\n",
       "      <td>172792.000000</td>\n",
       "      <td>2.454930e+00</td>\n",
       "      <td>2.205773e+01</td>\n",
       "      <td>9.382558e+00</td>\n",
       "      <td>1.687534e+01</td>\n",
       "      <td>3.480167e+01</td>\n",
       "      <td>7.330163e+01</td>\n",
       "      <td>1.205895e+02</td>\n",
       "      <td>2.000721e+01</td>\n",
       "      <td>1.559499e+01</td>\n",
       "      <td>...</td>\n",
       "      <td>2.720284e+01</td>\n",
       "      <td>1.050309e+01</td>\n",
       "      <td>2.252841e+01</td>\n",
       "      <td>4.584549e+00</td>\n",
       "      <td>7.519589e+00</td>\n",
       "      <td>3.517346e+00</td>\n",
       "      <td>3.161220e+01</td>\n",
       "      <td>3.384781e+01</td>\n",
       "      <td>25691.160000</td>\n",
       "      <td>1.000000</td>\n",
       "    </tr>\n",
       "  </tbody>\n",
       "</table>\n",
       "<p>8 rows × 31 columns</p>\n",
       "</div>"
      ],
      "text/plain": [
       "                Time            V1            V2            V3            V4  \\\n",
       "count  284807.000000  2.848070e+05  2.848070e+05  2.848070e+05  2.848070e+05   \n",
       "mean    94813.859575  3.919560e-15  5.688174e-16 -8.769071e-15  2.782312e-15   \n",
       "std     47488.145955  1.958696e+00  1.651309e+00  1.516255e+00  1.415869e+00   \n",
       "min         0.000000 -5.640751e+01 -7.271573e+01 -4.832559e+01 -5.683171e+00   \n",
       "25%     54201.500000 -9.203734e-01 -5.985499e-01 -8.903648e-01 -8.486401e-01   \n",
       "50%     84692.000000  1.810880e-02  6.548556e-02  1.798463e-01 -1.984653e-02   \n",
       "75%    139320.500000  1.315642e+00  8.037239e-01  1.027196e+00  7.433413e-01   \n",
       "max    172792.000000  2.454930e+00  2.205773e+01  9.382558e+00  1.687534e+01   \n",
       "\n",
       "                 V5            V6            V7            V8            V9  \\\n",
       "count  2.848070e+05  2.848070e+05  2.848070e+05  2.848070e+05  2.848070e+05   \n",
       "mean  -1.552563e-15  2.010663e-15 -1.694249e-15 -1.927028e-16 -3.137024e-15   \n",
       "std    1.380247e+00  1.332271e+00  1.237094e+00  1.194353e+00  1.098632e+00   \n",
       "min   -1.137433e+02 -2.616051e+01 -4.355724e+01 -7.321672e+01 -1.343407e+01   \n",
       "25%   -6.915971e-01 -7.682956e-01 -5.540759e-01 -2.086297e-01 -6.430976e-01   \n",
       "50%   -5.433583e-02 -2.741871e-01  4.010308e-02  2.235804e-02 -5.142873e-02   \n",
       "75%    6.119264e-01  3.985649e-01  5.704361e-01  3.273459e-01  5.971390e-01   \n",
       "max    3.480167e+01  7.330163e+01  1.205895e+02  2.000721e+01  1.559499e+01   \n",
       "\n",
       "           ...                 V21           V22           V23           V24  \\\n",
       "count      ...        2.848070e+05  2.848070e+05  2.848070e+05  2.848070e+05   \n",
       "mean       ...        1.537294e-16  7.959909e-16  5.367590e-16  4.458112e-15   \n",
       "std        ...        7.345240e-01  7.257016e-01  6.244603e-01  6.056471e-01   \n",
       "min        ...       -3.483038e+01 -1.093314e+01 -4.480774e+01 -2.836627e+00   \n",
       "25%        ...       -2.283949e-01 -5.423504e-01 -1.618463e-01 -3.545861e-01   \n",
       "50%        ...       -2.945017e-02  6.781943e-03 -1.119293e-02  4.097606e-02   \n",
       "75%        ...        1.863772e-01  5.285536e-01  1.476421e-01  4.395266e-01   \n",
       "max        ...        2.720284e+01  1.050309e+01  2.252841e+01  4.584549e+00   \n",
       "\n",
       "                V25           V26           V27           V28         Amount  \\\n",
       "count  2.848070e+05  2.848070e+05  2.848070e+05  2.848070e+05  284807.000000   \n",
       "mean   1.453003e-15  1.699104e-15 -3.660161e-16 -1.206049e-16      88.349619   \n",
       "std    5.212781e-01  4.822270e-01  4.036325e-01  3.300833e-01     250.120109   \n",
       "min   -1.029540e+01 -2.604551e+00 -2.256568e+01 -1.543008e+01       0.000000   \n",
       "25%   -3.171451e-01 -3.269839e-01 -7.083953e-02 -5.295979e-02       5.600000   \n",
       "50%    1.659350e-02 -5.213911e-02  1.342146e-03  1.124383e-02      22.000000   \n",
       "75%    3.507156e-01  2.409522e-01  9.104512e-02  7.827995e-02      77.165000   \n",
       "max    7.519589e+00  3.517346e+00  3.161220e+01  3.384781e+01   25691.160000   \n",
       "\n",
       "               Class  \n",
       "count  284807.000000  \n",
       "mean        0.001727  \n",
       "std         0.041527  \n",
       "min         0.000000  \n",
       "25%         0.000000  \n",
       "50%         0.000000  \n",
       "75%         0.000000  \n",
       "max         1.000000  \n",
       "\n",
       "[8 rows x 31 columns]"
      ]
     },
     "execution_count": 5,
     "metadata": {},
     "output_type": "execute_result"
    }
   ],
   "source": [
    "creditcard.describe()"
   ]
  },
  {
   "cell_type": "markdown",
   "metadata": {},
   "source": [
    "No total temos 284807 linhas com 31 colunas cada.<br>\n",
    "Agora quantas delas será que não são nulas?<br>\n",
    "Vamos realizar essa contagem para cada variável."
   ]
  },
  {
   "cell_type": "code",
   "execution_count": 43,
   "metadata": {
    "scrolled": true
   },
   "outputs": [
    {
     "data": {
      "text/plain": [
       "False"
      ]
     },
     "execution_count": 43,
     "metadata": {},
     "output_type": "execute_result"
    }
   ],
   "source": [
    "creditcard.isnull().values.any()"
   ]
  },
  {
   "cell_type": "code",
   "execution_count": 28,
   "metadata": {},
   "outputs": [
    {
     "data": {
      "text/plain": [
       "<matplotlib.axes._subplots.AxesSubplot at 0x11919ab10>"
      ]
     },
     "execution_count": 28,
     "metadata": {},
     "output_type": "execute_result"
    },
    {
     "data": {
      "image/png": "[encoded data removed]",
      "text/plain": [
       "<matplotlib.figure.Figure at 0x1191b1f50>"
      ]
     },
     "metadata": {},
     "output_type": "display_data"
    }
   ],
   "source": [
    "pie_plot = pd.Series(creditcard['Class'].groupby(creditcard['Class']).count())\n",
    "\n",
    "pie_plot.plot(kind='pie', figsize=(5,5), autopct='%.2f', title='Class')"
   ]
  },
  {
   "cell_type": "markdown",
   "metadata": {},
   "source": [
    "Como não existem valores nulos, vamos ver a comparação de tempo de transações fraudulentas e autênticas."
   ]
  },
  {
   "cell_type": "code",
   "execution_count": 9,
   "metadata": {},
   "outputs": [
    {
     "name": "stdout",
     "output_type": "stream",
     "text": [
      "Transacoes Autenticas:\n",
      "(284315, 31)\n",
      "Transacoes Fraudulentas:\n",
      "(492, 31)\n",
      "\n",
      "Transacoes Autenticas:\n",
      "count    284315.000000\n",
      "mean      94838.202258\n",
      "std       47484.015786\n",
      "min           0.000000\n",
      "25%       54230.000000\n",
      "50%       84711.000000\n",
      "75%      139333.000000\n",
      "max      172792.000000\n",
      "Name: Time, dtype: float64\n",
      "\n",
      "Transacoes Fraudulentas:\n",
      "count       492.000000\n",
      "mean      80746.806911\n",
      "std       47835.365138\n",
      "min         406.000000\n",
      "25%       41241.500000\n",
      "50%       75568.500000\n",
      "75%      128483.000000\n",
      "max      170348.000000\n",
      "Name: Time, dtype: float64\n"
     ]
    }
   ],
   "source": [
    "print 'Transacoes Autenticas:\\n', creditcard[creditcard.Class == 0].shape\n",
    "print 'Transacoes Fraudulentas:\\n', creditcard[creditcard.Class == 1].shape\n",
    "\n",
    "normal_trans = creditcard.Time[creditcard.Class == 0]\n",
    "fraud_trans = creditcard.Time[creditcard.Class == 1]\n",
    "\n",
    "print '\\nTransacoes Autenticas:\\n', normal_trans.describe() \n",
    "print '\\nTransacoes Fraudulentas:\\n', fraud_trans.describe()"
   ]
  },
  {
   "cell_type": "code",
   "execution_count": 18,
   "metadata": {},
   "outputs": [
    {
     "data": {
      "text/plain": [
       "<matplotlib.text.Text at 0x1165d3250>"
      ]
     },
     "execution_count": 18,
     "metadata": {},
     "output_type": "execute_result"
    },
    {
     "data": {
      "image/png": "[encoded data removed]",
      "text/plain": [
       "<matplotlib.figure.Figure at 0x1165ec9d0>"
      ]
     },
     "metadata": {},
     "output_type": "display_data"
    }
   ],
   "source": [
    "creditcard.Amount[creditcard.Class == 1].hist(bins = 30)\n",
    "plt.title('Histograma de Valor Gasto - Fraude')\n",
    "plt.ylabel('Quantidade')\n",
    "plt.xlabel('Valor')"
   ]
  },
  {
   "cell_type": "code",
   "execution_count": 29,
   "metadata": {},
   "outputs": [
    {
     "data": {
      "image/png": "[encoded data removed]",
      "text/plain": [
       "<matplotlib.figure.Figure at 0x119282f10>"
      ]
     },
     "metadata": {},
     "output_type": "display_data"
    }
   ],
   "source": [
    "creditcard.Amount[creditcard.Class == 0].hist(bins = 30)\n",
    "plt.title('Histograma de Valor Gasto - Corretas')\n",
    "plt.ylabel('Quantidade')\n",
    "plt.xlabel('Valor')\n",
    "plt.yscale('log')"
   ]
  },
  {
   "cell_type": "code",
   "execution_count": 146,
   "metadata": {
    "scrolled": true
   },
   "outputs": [
    {
     "data": {
      "image/png": "[encoded data removed]",
      "text/plain": [
       "<matplotlib.figure.Figure at 0x7f38ef214898>"
      ]
     },
     "metadata": {},
     "output_type": "display_data"
    }
   ],
   "source": [
    "w, (fst, scd) = plt.subplots(2, 1, sharex=True, figsize=(20,6))\n",
    "\n",
    "fst.set_title('Transações Fraudulentas')\n",
    "cd_time_1 = creditcard.Time[creditcard.Class == 1]\n",
    "fst.hist(cd_time_1, bins = 100, color='crimson')\n",
    "\n",
    "scd.set_title('Transações Autênticas')\n",
    "cd_time_0 = creditcard.Time[creditcard.Class == 0]\n",
    "scd.hist(cd_time_0, bins = 100, color='teal')\n",
    "\n",
    "plt.xlabel('Tempo - segundos')\n",
    "plt.ylabel('Quantidade de Transações')\n",
    "plt.show()"
   ]
  },
  {
   "cell_type": "markdown",
   "metadata": {},
   "source": [
    "Podemos perceber analisando os graficos acima que o tempo não é algo que tem influência. Podemos até dizer que as transações fraudulentas estão distribuídas quase que uniformemente."
   ]
  },
  {
   "cell_type": "code",
   "execution_count": 32,
   "metadata": {
    "scrolled": true
   },
   "outputs": [
    {
     "name": "stdout",
     "output_type": "stream",
     "text": [
      "Time:\n",
      "count    284807.000000\n",
      "mean      94813.859575\n",
      "std       47488.145955\n",
      "min           0.000000\n",
      "25%       54201.500000\n",
      "50%       84692.000000\n",
      "75%      139320.500000\n",
      "max      172792.000000\n",
      "Name: Time, dtype: float64\n",
      "\n",
      "Amount:\n",
      "count    284807.000000\n",
      "mean         88.349619\n",
      "std         250.120109\n",
      "min           0.000000\n",
      "25%           5.600000\n",
      "50%          22.000000\n",
      "75%          77.165000\n",
      "max       25691.160000\n",
      "Name: Amount, dtype: float64\n"
     ]
    }
   ],
   "source": [
    "print 'Time:\\n',format(creditcard['Time'].describe())\n",
    "print '\\nAmount:\\n',format(creditcard['Amount'].describe())"
   ]
  },
  {
   "cell_type": "markdown",
   "metadata": {},
   "source": [
    "# Preparação dos dados\n",
    "\n",
    "\n",
    "Pudemos perceber que a coluna **Amount** posssue bastantes outliers.\n",
    "Uma maneira muito comum e eficiente de minimizar o efeito deles na base como um todo é realizar um scale dos valores, por exemplo transformar todos os valores para um range entre -1 e 1.\n",
    "\n",
    "Para fazer isso usaremos o módulo [sklearn.preprocessing.StandardScaler](http://scikit-learn.org/stable/modules/generated/sklearn.preprocessing.StandardScaler.html)."
   ]
  },
  {
   "cell_type": "code",
   "execution_count": 43,
   "metadata": {},
   "outputs": [],
   "source": [
    "from sklearn.preprocessing import StandardScaler\n",
    "\n",
    "data = creditcard.drop(['Time'], axis=1)\n",
    "data['Amount'] = StandardScaler().fit_transform(data['Amount'].values.reshape(-1, 1))"
   ]
  },
  {
   "cell_type": "code",
   "execution_count": 41,
   "metadata": {
    "scrolled": true
   },
   "outputs": [
    {
     "data": {
      "text/html": [
       "<div>\n",
       "<style>\n",
       "    .dataframe thead tr:only-child th {\n",
       "        text-align: right;\n",
       "    }\n",
       "\n",
       "    .dataframe thead th {\n",
       "        text-align: left;\n",
       "    }\n",
       "\n",
       "    .dataframe tbody tr th {\n",
       "        vertical-align: top;\n",
       "    }\n",
       "</style>\n",
       "<table border=\"1\" class=\"dataframe\">\n",
       "  <thead>\n",
       "    <tr style=\"text-align: right;\">\n",
       "      <th></th>\n",
       "      <th>V1</th>\n",
       "      <th>V2</th>\n",
       "      <th>V3</th>\n",
       "      <th>V4</th>\n",
       "      <th>V5</th>\n",
       "      <th>V6</th>\n",
       "      <th>V7</th>\n",
       "      <th>V8</th>\n",
       "      <th>V9</th>\n",
       "      <th>V10</th>\n",
       "      <th>...</th>\n",
       "      <th>V21</th>\n",
       "      <th>V22</th>\n",
       "      <th>V23</th>\n",
       "      <th>V24</th>\n",
       "      <th>V25</th>\n",
       "      <th>V26</th>\n",
       "      <th>V27</th>\n",
       "      <th>V28</th>\n",
       "      <th>Amount</th>\n",
       "      <th>Class</th>\n",
       "    </tr>\n",
       "  </thead>\n",
       "  <tbody>\n",
       "    <tr>\n",
       "      <th>0</th>\n",
       "      <td>-1.359807</td>\n",
       "      <td>-0.072781</td>\n",
       "      <td>2.536347</td>\n",
       "      <td>1.378155</td>\n",
       "      <td>-0.338321</td>\n",
       "      <td>0.462388</td>\n",
       "      <td>0.239599</td>\n",
       "      <td>0.098698</td>\n",
       "      <td>0.363787</td>\n",
       "      <td>0.090794</td>\n",
       "      <td>...</td>\n",
       "      <td>-0.018307</td>\n",
       "      <td>0.277838</td>\n",
       "      <td>-0.110474</td>\n",
       "      <td>0.066928</td>\n",
       "      <td>0.128539</td>\n",
       "      <td>-0.189115</td>\n",
       "      <td>0.133558</td>\n",
       "      <td>-0.021053</td>\n",
       "      <td>0.244964</td>\n",
       "      <td>0</td>\n",
       "    </tr>\n",
       "    <tr>\n",
       "      <th>1</th>\n",
       "      <td>1.191857</td>\n",
       "      <td>0.266151</td>\n",
       "      <td>0.166480</td>\n",
       "      <td>0.448154</td>\n",
       "      <td>0.060018</td>\n",
       "      <td>-0.082361</td>\n",
       "      <td>-0.078803</td>\n",
       "      <td>0.085102</td>\n",
       "      <td>-0.255425</td>\n",
       "      <td>-0.166974</td>\n",
       "      <td>...</td>\n",
       "      <td>-0.225775</td>\n",
       "      <td>-0.638672</td>\n",
       "      <td>0.101288</td>\n",
       "      <td>-0.339846</td>\n",
       "      <td>0.167170</td>\n",
       "      <td>0.125895</td>\n",
       "      <td>-0.008983</td>\n",
       "      <td>0.014724</td>\n",
       "      <td>-0.342475</td>\n",
       "      <td>0</td>\n",
       "    </tr>\n",
       "    <tr>\n",
       "      <th>2</th>\n",
       "      <td>-1.358354</td>\n",
       "      <td>-1.340163</td>\n",
       "      <td>1.773209</td>\n",
       "      <td>0.379780</td>\n",
       "      <td>-0.503198</td>\n",
       "      <td>1.800499</td>\n",
       "      <td>0.791461</td>\n",
       "      <td>0.247676</td>\n",
       "      <td>-1.514654</td>\n",
       "      <td>0.207643</td>\n",
       "      <td>...</td>\n",
       "      <td>0.247998</td>\n",
       "      <td>0.771679</td>\n",
       "      <td>0.909412</td>\n",
       "      <td>-0.689281</td>\n",
       "      <td>-0.327642</td>\n",
       "      <td>-0.139097</td>\n",
       "      <td>-0.055353</td>\n",
       "      <td>-0.059752</td>\n",
       "      <td>1.160686</td>\n",
       "      <td>0</td>\n",
       "    </tr>\n",
       "    <tr>\n",
       "      <th>3</th>\n",
       "      <td>-0.966272</td>\n",
       "      <td>-0.185226</td>\n",
       "      <td>1.792993</td>\n",
       "      <td>-0.863291</td>\n",
       "      <td>-0.010309</td>\n",
       "      <td>1.247203</td>\n",
       "      <td>0.237609</td>\n",
       "      <td>0.377436</td>\n",
       "      <td>-1.387024</td>\n",
       "      <td>-0.054952</td>\n",
       "      <td>...</td>\n",
       "      <td>-0.108300</td>\n",
       "      <td>0.005274</td>\n",
       "      <td>-0.190321</td>\n",
       "      <td>-1.175575</td>\n",
       "      <td>0.647376</td>\n",
       "      <td>-0.221929</td>\n",
       "      <td>0.062723</td>\n",
       "      <td>0.061458</td>\n",
       "      <td>0.140534</td>\n",
       "      <td>0</td>\n",
       "    </tr>\n",
       "    <tr>\n",
       "      <th>4</th>\n",
       "      <td>-1.158233</td>\n",
       "      <td>0.877737</td>\n",
       "      <td>1.548718</td>\n",
       "      <td>0.403034</td>\n",
       "      <td>-0.407193</td>\n",
       "      <td>0.095921</td>\n",
       "      <td>0.592941</td>\n",
       "      <td>-0.270533</td>\n",
       "      <td>0.817739</td>\n",
       "      <td>0.753074</td>\n",
       "      <td>...</td>\n",
       "      <td>-0.009431</td>\n",
       "      <td>0.798278</td>\n",
       "      <td>-0.137458</td>\n",
       "      <td>0.141267</td>\n",
       "      <td>-0.206010</td>\n",
       "      <td>0.502292</td>\n",
       "      <td>0.219422</td>\n",
       "      <td>0.215153</td>\n",
       "      <td>-0.073403</td>\n",
       "      <td>0</td>\n",
       "    </tr>\n",
       "  </tbody>\n",
       "</table>\n",
       "<p>5 rows × 30 columns</p>\n",
       "</div>"
      ],
      "text/plain": [
       "         V1        V2        V3        V4        V5        V6        V7  \\\n",
       "0 -1.359807 -0.072781  2.536347  1.378155 -0.338321  0.462388  0.239599   \n",
       "1  1.191857  0.266151  0.166480  0.448154  0.060018 -0.082361 -0.078803   \n",
       "2 -1.358354 -1.340163  1.773209  0.379780 -0.503198  1.800499  0.791461   \n",
       "3 -0.966272 -0.185226  1.792993 -0.863291 -0.010309  1.247203  0.237609   \n",
       "4 -1.158233  0.877737  1.548718  0.403034 -0.407193  0.095921  0.592941   \n",
       "\n",
       "         V8        V9       V10  ...         V21       V22       V23  \\\n",
       "0  0.098698  0.363787  0.090794  ...   -0.018307  0.277838 -0.110474   \n",
       "1  0.085102 -0.255425 -0.166974  ...   -0.225775 -0.638672  0.101288   \n",
       "2  0.247676 -1.514654  0.207643  ...    0.247998  0.771679  0.909412   \n",
       "3  0.377436 -1.387024 -0.054952  ...   -0.108300  0.005274 -0.190321   \n",
       "4 -0.270533  0.817739  0.753074  ...   -0.009431  0.798278 -0.137458   \n",
       "\n",
       "        V24       V25       V26       V27       V28    Amount  Class  \n",
       "0  0.066928  0.128539 -0.189115  0.133558 -0.021053  0.244964      0  \n",
       "1 -0.339846  0.167170  0.125895 -0.008983  0.014724 -0.342475      0  \n",
       "2 -0.689281 -0.327642 -0.139097 -0.055353 -0.059752  1.160686      0  \n",
       "3 -1.175575  0.647376 -0.221929  0.062723  0.061458  0.140534      0  \n",
       "4  0.141267 -0.206010  0.502292  0.219422  0.215153 -0.073403      0  \n",
       "\n",
       "[5 rows x 30 columns]"
      ]
     },
     "execution_count": 41,
     "metadata": {},
     "output_type": "execute_result"
    }
   ],
   "source": [
    "data.head()"
   ]
  },
  {
   "cell_type": "markdown",
   "metadata": {},
   "source": [
    "Legal, agora já com os dados prontos iremos começar a treinar nossos modelos de Deep Learning :)\n",
    "\n"
   ]
  },
  {
   "cell_type": "code",
   "execution_count": 44,
   "metadata": {},
   "outputs": [
    {
     "name": "stderr",
     "output_type": "stream",
     "text": [
      "Using TensorFlow backend.\n"
     ]
    }
   ],
   "source": [
    "import keras\n",
    "import numpy as np\n",
    "import pandas as pd\n",
    "import math\n",
    "import matplotlib.pyplot as plt\n",
    "from keras.utils import np_utils \n",
    "from keras.models import Sequential \n",
    "from keras.layers import Dense\n",
    "from keras.layers import Activation\n",
    "from keras.layers import Flatten\n",
    "from keras.layers import ActivityRegularization\n",
    "from keras.models import Sequential\n",
    "from keras.layers import Dropout\n",
    "from keras.callbacks import EarlyStopping\n",
    "from keras.callbacks import ModelCheckpoint\n",
    "from keras.callbacks import ReduceLROnPlateau\n",
    "from keras.callbacks import LearningRateScheduler\n",
    "from keras.optimizers import Adam\n",
    "from keras.optimizers import SGD\n",
    "from keras import optimizers\n",
    "from sklearn.model_selection import train_test_split\n",
    "from sklearn.model_selection import train_test_split\n",
    "from sklearn.preprocessing import minmax_scale, quantile_transform\n",
    "from numpy.random import seed\n",
    "from tensorflow import set_random_seed"
   ]
  },
  {
   "cell_type": "code",
   "execution_count": 86,
   "metadata": {},
   "outputs": [
    {
     "name": "stdout",
     "output_type": "stream",
     "text": [
      "Populating the interactive namespace from numpy and matplotlib\n"
     ]
    },
    {
     "name": "stderr",
     "output_type": "stream",
     "text": [
      "/Users/guilherme.brunhole/anaconda2/lib/python2.7/site-packages/IPython/core/magics/pylab.py:161: UserWarning: pylab import has clobbered these variables: ['size']\n",
      "`%matplotlib` prevents importing * from pylab and numpy\n",
      "  \"\\n`%matplotlib` prevents importing * from pylab and numpy\"\n"
     ]
    }
   ],
   "source": [
    "# convert the pd dataframe to a numpy vector\n",
    "X = data.drop('Class', axis = 1).values.astype(float)\n",
    "\n",
    "# Store target column in y array\n",
    "y = data.Class\n",
    "\n",
    "# normalize values\n",
    "X_norm = X # minmax_scale(X, axis = 1)\n",
    "y_norm = y\n",
    "\n",
    "# split dataset\n",
    "X_train, X_test, y_train, y_test = train_test_split(X_norm, y_norm, test_size=0.33, random_state=42)\n",
    "\n",
    "# Model metaparameters\n",
    "nb_epoch = 60\n",
    "n_samples = X_train.shape[0]\n",
    "n_samples_test = y_train.shape[0]\n",
    "\n",
    "rlrop = ReduceLROnPlateau(monitor='val_loss'\n",
    "                          , factor=0.1\n",
    "                          , patience=1000\n",
    "                          , verbose=0\n",
    "                          , mode='auto'\n",
    "                          , epsilon=0.0001\n",
    "                          , cooldown=4\n",
    "                          , min_lr=10e-7)\n",
    "\n",
    "early_stopping = EarlyStopping(monitor='val_loss'\n",
    "                               , min_delta=0.001\n",
    "                               , patience=1500)\n",
    "\n",
    "sgd = optimizers.SGD(lr=0.001\n",
    "                     , decay=1e-6\n",
    "                     , momentum=0.9\n",
    "                     , nesterov=True)\n",
    "\n",
    "%pylab inline\n",
    "pylab.rcParams['figure.figsize'] = (14, 9)"
   ]
  },
  {
   "cell_type": "code",
   "execution_count": 87,
   "metadata": {},
   "outputs": [
    {
     "name": "stdout",
     "output_type": "stream",
     "text": [
      "Train on 190820 samples, validate on 93987 samples\n",
      "Epoch 1/60\n",
      "190820/190820 [==============================] - 16s - loss: 0.0017 - mean_squared_error: 0.0017 - val_loss: 0.0015 - val_mean_squared_error: 0.0015\n",
      "Epoch 2/60\n",
      "190820/190820 [==============================] - 16s - loss: 0.0016 - mean_squared_error: 0.0016 - val_loss: 0.0013 - val_mean_squared_error: 0.0013\n",
      "Epoch 3/60\n",
      "190820/190820 [==============================] - 16s - loss: 0.0015 - mean_squared_error: 0.0015 - val_loss: 0.0011 - val_mean_squared_error: 0.0011\n",
      "Epoch 4/60\n",
      "190820/190820 [==============================] - 16s - loss: 0.0013 - mean_squared_error: 0.0013 - val_loss: 9.1493e-04 - val_mean_squared_error: 9.1493e-04\n",
      "Epoch 5/60\n",
      "190820/190820 [==============================] - 17s - loss: 0.0011 - mean_squared_error: 0.0011 - val_loss: 7.8178e-04 - val_mean_squared_error: 7.8178e-04\n",
      "Epoch 6/60\n",
      "190820/190820 [==============================] - 16s - loss: 9.9830e-04 - mean_squared_error: 9.9830e-04 - val_loss: 7.4433e-04 - val_mean_squared_error: 7.4433e-04\n",
      "Epoch 7/60\n",
      "190820/190820 [==============================] - 16s - loss: 9.7351e-04 - mean_squared_error: 9.7351e-04 - val_loss: 7.3450e-04 - val_mean_squared_error: 7.3450e-04\n",
      "Epoch 8/60\n",
      "190820/190820 [==============================] - 16s - loss: 9.7510e-04 - mean_squared_error: 9.7510e-04 - val_loss: 7.2303e-04 - val_mean_squared_error: 7.2303e-04\n",
      "Epoch 9/60\n",
      "190820/190820 [==============================] - 16s - loss: 9.2266e-04 - mean_squared_error: 9.2266e-04 - val_loss: 7.1672e-04 - val_mean_squared_error: 7.1672e-04\n",
      "Epoch 10/60\n",
      "190820/190820 [==============================] - 17s - loss: 9.6728e-04 - mean_squared_error: 9.6728e-04 - val_loss: 7.0932e-04 - val_mean_squared_error: 7.0932e-04\n",
      "Epoch 11/60\n",
      "190820/190820 [==============================] - 15s - loss: 9.4547e-04 - mean_squared_error: 9.4547e-04 - val_loss: 7.1201e-04 - val_mean_squared_error: 7.1201e-04\n",
      "Epoch 12/60\n",
      "190820/190820 [==============================] - 17s - loss: 8.9529e-04 - mean_squared_error: 8.9529e-04 - val_loss: 7.0111e-04 - val_mean_squared_error: 7.0111e-04\n",
      "Epoch 13/60\n",
      "190820/190820 [==============================] - 16s - loss: 9.3162e-04 - mean_squared_error: 9.3162e-04 - val_loss: 7.0010e-04 - val_mean_squared_error: 7.0010e-04\n",
      "Epoch 14/60\n",
      "190820/190820 [==============================] - 16s - loss: 9.0998e-04 - mean_squared_error: 9.0998e-04 - val_loss: 6.9481e-04 - val_mean_squared_error: 6.9481e-04\n",
      "Epoch 15/60\n",
      "190820/190820 [==============================] - 16s - loss: 9.1082e-04 - mean_squared_error: 9.1082e-04 - val_loss: 6.9012e-04 - val_mean_squared_error: 6.9012e-04\n",
      "Epoch 16/60\n",
      "190820/190820 [==============================] - 15s - loss: 9.1698e-04 - mean_squared_error: 9.1698e-04 - val_loss: 6.9093e-04 - val_mean_squared_error: 6.9093e-04\n",
      "Epoch 17/60\n",
      "190820/190820 [==============================] - 16s - loss: 9.1452e-04 - mean_squared_error: 9.1452e-04 - val_loss: 6.8794e-04 - val_mean_squared_error: 6.8794e-04\n",
      "Epoch 18/60\n",
      "190820/190820 [==============================] - 18s - loss: 8.8573e-04 - mean_squared_error: 8.8573e-04 - val_loss: 6.8276e-04 - val_mean_squared_error: 6.8276e-04\n",
      "Epoch 19/60\n",
      "190820/190820 [==============================] - 14s - loss: 8.8736e-04 - mean_squared_error: 8.8736e-04 - val_loss: 6.8006e-04 - val_mean_squared_error: 6.8006e-04\n",
      "Epoch 20/60\n",
      "190820/190820 [==============================] - 18s - loss: 8.7268e-04 - mean_squared_error: 8.7268e-04 - val_loss: 6.8067e-04 - val_mean_squared_error: 6.8067e-04\n",
      "Epoch 21/60\n",
      "190820/190820 [==============================] - 18s - loss: 8.5996e-04 - mean_squared_error: 8.5996e-04 - val_loss: 6.7673e-04 - val_mean_squared_error: 6.7673e-04\n",
      "Epoch 22/60\n",
      "190820/190820 [==============================] - 17s - loss: 8.9968e-04 - mean_squared_error: 8.9968e-04 - val_loss: 6.7656e-04 - val_mean_squared_error: 6.7656e-04\n",
      "Epoch 23/60\n",
      "190820/190820 [==============================] - 18s - loss: 8.6987e-04 - mean_squared_error: 8.6987e-04 - val_loss: 6.7340e-04 - val_mean_squared_error: 6.7340e-04\n",
      "Epoch 24/60\n",
      "190820/190820 [==============================] - 17s - loss: 8.8871e-04 - mean_squared_error: 8.8871e-04 - val_loss: 6.7587e-04 - val_mean_squared_error: 6.7587e-04\n",
      "Epoch 25/60\n",
      "190820/190820 [==============================] - 19s - loss: 8.9765e-04 - mean_squared_error: 8.9765e-04 - val_loss: 6.7023e-04 - val_mean_squared_error: 6.7023e-04\n",
      "Epoch 26/60\n",
      "190820/190820 [==============================] - 18s - loss: 8.6450e-04 - mean_squared_error: 8.6450e-04 - val_loss: 6.6659e-04 - val_mean_squared_error: 6.6659e-04\n",
      "Epoch 27/60\n",
      "190820/190820 [==============================] - 18s - loss: 8.7540e-04 - mean_squared_error: 8.7540e-04 - val_loss: 6.6792e-04 - val_mean_squared_error: 6.6792e-04\n",
      "Epoch 28/60\n",
      "190820/190820 [==============================] - 18s - loss: 8.7380e-04 - mean_squared_error: 8.7380e-04 - val_loss: 6.6441e-04 - val_mean_squared_error: 6.6441e-04\n",
      "Epoch 29/60\n",
      "190820/190820 [==============================] - 18s - loss: 8.7016e-04 - mean_squared_error: 8.7016e-04 - val_loss: 6.6467e-04 - val_mean_squared_error: 6.6467e-04\n",
      "Epoch 30/60\n",
      "190820/190820 [==============================] - 18s - loss: 8.5190e-04 - mean_squared_error: 8.5190e-04 - val_loss: 6.6321e-04 - val_mean_squared_error: 6.6321e-04\n",
      "Epoch 31/60\n",
      "190820/190820 [==============================] - 18s - loss: 8.5672e-04 - mean_squared_error: 8.5672e-04 - val_loss: 6.6042e-04 - val_mean_squared_error: 6.6042e-04\n",
      "Epoch 32/60\n",
      "190820/190820 [==============================] - 18s - loss: 8.7472e-04 - mean_squared_error: 8.7472e-04 - val_loss: 6.6125e-04 - val_mean_squared_error: 6.6125e-04\n",
      "Epoch 33/60\n",
      "190820/190820 [==============================] - 18s - loss: 8.9877e-04 - mean_squared_error: 8.9877e-04 - val_loss: 6.6148e-04 - val_mean_squared_error: 6.6148e-04\n",
      "Epoch 34/60\n",
      "190820/190820 [==============================] - 19s - loss: 8.5667e-04 - mean_squared_error: 8.5667e-04 - val_loss: 6.5595e-04 - val_mean_squared_error: 6.5595e-04\n",
      "Epoch 35/60\n",
      "190820/190820 [==============================] - 18s - loss: 8.7294e-04 - mean_squared_error: 8.7294e-04 - val_loss: 6.5516e-04 - val_mean_squared_error: 6.5516e-04\n",
      "Epoch 36/60\n",
      "190820/190820 [==============================] - 17s - loss: 8.3899e-04 - mean_squared_error: 8.3899e-04 - val_loss: 6.5319e-04 - val_mean_squared_error: 6.5319e-04\n",
      "Epoch 37/60\n",
      "190820/190820 [==============================] - 18s - loss: 8.6750e-04 - mean_squared_error: 8.6750e-04 - val_loss: 6.5727e-04 - val_mean_squared_error: 6.5727e-04\n",
      "Epoch 38/60\n",
      "190820/190820 [==============================] - 19s - loss: 8.8993e-04 - mean_squared_error: 8.8993e-04 - val_loss: 6.5273e-04 - val_mean_squared_error: 6.5273e-04\n",
      "Epoch 39/60\n",
      "190820/190820 [==============================] - 18s - loss: 8.6129e-04 - mean_squared_error: 8.6129e-04 - val_loss: 6.4893e-04 - val_mean_squared_error: 6.4893e-04\n",
      "Epoch 40/60\n",
      "190820/190820 [==============================] - 15s - loss: 8.4858e-04 - mean_squared_error: 8.4858e-04 - val_loss: 6.4794e-04 - val_mean_squared_error: 6.4794e-04\n",
      "Epoch 41/60\n",
      "190820/190820 [==============================] - 14s - loss: 8.2609e-04 - mean_squared_error: 8.2609e-04 - val_loss: 6.4695e-04 - val_mean_squared_error: 6.4695e-04\n",
      "Epoch 42/60\n",
      "190820/190820 [==============================] - 14s - loss: 8.6881e-04 - mean_squared_error: 8.6881e-04 - val_loss: 6.4776e-04 - val_mean_squared_error: 6.4776e-04\n",
      "Epoch 43/60\n",
      "190820/190820 [==============================] - 19s - loss: 8.0764e-04 - mean_squared_error: 8.0764e-04 - val_loss: 6.4464e-04 - val_mean_squared_error: 6.4464e-04\n",
      "Epoch 44/60\n",
      "190820/190820 [==============================] - 17s - loss: 8.6049e-04 - mean_squared_error: 8.6049e-04 - val_loss: 6.4400e-04 - val_mean_squared_error: 6.4400e-04\n",
      "Epoch 45/60\n",
      "190820/190820 [==============================] - 15s - loss: 8.6499e-04 - mean_squared_error: 8.6499e-04 - val_loss: 6.4173e-04 - val_mean_squared_error: 6.4173e-04\n",
      "Epoch 46/60\n",
      "190820/190820 [==============================] - 17s - loss: 8.5846e-04 - mean_squared_error: 8.5846e-04 - val_loss: 6.4157e-04 - val_mean_squared_error: 6.4157e-04\n",
      "Epoch 47/60\n"
     ]
    },
    {
     "name": "stdout",
     "output_type": "stream",
     "text": [
      "190820/190820 [==============================] - 15s - loss: 8.2400e-04 - mean_squared_error: 8.2400e-04 - val_loss: 6.4104e-04 - val_mean_squared_error: 6.4104e-04\n",
      "Epoch 48/60\n",
      "190820/190820 [==============================] - 15s - loss: 8.2655e-04 - mean_squared_error: 8.2655e-04 - val_loss: 6.3860e-04 - val_mean_squared_error: 6.3860e-04\n",
      "Epoch 49/60\n",
      "190820/190820 [==============================] - 15s - loss: 8.2664e-04 - mean_squared_error: 8.2664e-04 - val_loss: 6.3600e-04 - val_mean_squared_error: 6.3600e-04\n",
      "Epoch 50/60\n",
      "190820/190820 [==============================] - 16s - loss: 8.3641e-04 - mean_squared_error: 8.3641e-04 - val_loss: 6.3591e-04 - val_mean_squared_error: 6.3591e-04\n",
      "Epoch 51/60\n",
      "190820/190820 [==============================] - 16s - loss: 8.4265e-04 - mean_squared_error: 8.4265e-04 - val_loss: 6.3696e-04 - val_mean_squared_error: 6.3696e-04\n",
      "Epoch 52/60\n",
      "190820/190820 [==============================] - 15s - loss: 8.5549e-04 - mean_squared_error: 8.5549e-04 - val_loss: 6.3152e-04 - val_mean_squared_error: 6.3152e-04\n",
      "Epoch 53/60\n",
      "190820/190820 [==============================] - 14s - loss: 8.2773e-04 - mean_squared_error: 8.2773e-04 - val_loss: 6.3020e-04 - val_mean_squared_error: 6.3020e-04\n",
      "Epoch 54/60\n",
      "190820/190820 [==============================] - 14s - loss: 8.4528e-04 - mean_squared_error: 8.4528e-04 - val_loss: 6.3268e-04 - val_mean_squared_error: 6.3268e-04\n",
      "Epoch 55/60\n",
      "190820/190820 [==============================] - 14s - loss: 8.3953e-04 - mean_squared_error: 8.3953e-04 - val_loss: 6.3150e-04 - val_mean_squared_error: 6.3150e-04\n",
      "Epoch 56/60\n",
      "190820/190820 [==============================] - 16s - loss: 8.1806e-04 - mean_squared_error: 8.1806e-04 - val_loss: 6.2794e-04 - val_mean_squared_error: 6.2794e-04\n",
      "Epoch 57/60\n",
      "190820/190820 [==============================] - 16s - loss: 8.3861e-04 - mean_squared_error: 8.3861e-04 - val_loss: 6.3673e-04 - val_mean_squared_error: 6.3673e-04\n",
      "Epoch 58/60\n",
      "190820/190820 [==============================] - 17s - loss: 8.0616e-04 - mean_squared_error: 8.0616e-04 - val_loss: 6.2931e-04 - val_mean_squared_error: 6.2931e-04\n",
      "Epoch 59/60\n",
      "190820/190820 [==============================] - 15s - loss: 8.4040e-04 - mean_squared_error: 8.4040e-04 - val_loss: 6.2671e-04 - val_mean_squared_error: 6.2671e-04\n",
      "Epoch 60/60\n",
      "190820/190820 [==============================] - 16s - loss: 8.1650e-04 - mean_squared_error: 8.1650e-04 - val_loss: 6.2099e-04 - val_mean_squared_error: 6.2099e-04\n"
     ]
    }
   ],
   "source": [
    "model = Sequential() \n",
    "model.add(Dense(256, input_shape=(X_train.shape[1],), kernel_initializer='uniform', activation='relu'))\n",
    "model.add(Dropout(0.3))\n",
    "model.add(Dense(128, kernel_initializer='uniform', activation='relu'))\n",
    "model.add(Dropout(0.3))\n",
    "model.add(Dense(32, kernel_initializer='uniform', activation='relu'))\n",
    "model.add(Dropout(0.3))\n",
    "model.add(Dense(1, kernel_initializer='uniform', activation='relu'))\n",
    "model.compile(loss='mean_squared_error', optimizer=sgd, metrics=['mse'])\n",
    "\n",
    "hist_model = model.fit(X_train[:n_samples]\n",
    "                                 , y_train[:n_samples]\n",
    "                                 , epochs=nb_epoch\n",
    "                                 , batch_size=50 \n",
    "                                 , validation_data=(X_test[:n_samples_test], y_test[:n_samples_test])\n",
    "                                 , verbose=1\n",
    "                                 , callbacks=[early_stopping, rlrop])"
   ]
  },
  {
   "cell_type": "markdown",
   "metadata": {},
   "source": [
    "# Visualize MSE. & Loss"
   ]
  },
  {
   "cell_type": "code",
   "execution_count": 88,
   "metadata": {},
   "outputs": [
    {
     "data": {
      "image/png": "[encoded data removed]",
      "text/plain": [
       "<matplotlib.figure.Figure at 0x1c27cd8490>"
      ]
     },
     "metadata": {},
     "output_type": "display_data"
    }
   ],
   "source": [
    "plt.plot(hist_model.history['val_loss'][1:-1])  \n",
    "plt.title('val. loss')  \n",
    "plt.ylabel('val loss')  \n",
    "plt.xlabel('epoch')  \n",
    "plt.legend(['sgd+nesterov'], loc='upper right')  \n",
    "\n",
    "plt.show()"
   ]
  },
  {
   "cell_type": "code",
   "execution_count": 89,
   "metadata": {
    "scrolled": true
   },
   "outputs": [
    {
     "data": {
      "image/png": "[encoded data removed]",
      "text/plain": [
       "<matplotlib.figure.Figure at 0x1c25f93410>"
      ]
     },
     "metadata": {},
     "output_type": "display_data"
    }
   ],
   "source": [
    "plt.plot(hist_model.history['val_mean_squared_error'][1:-1])  \n",
    "plt.title('val. val_mean_squared_error')  \n",
    "plt.ylabel('val val_mean_squared_error')  \n",
    "plt.xlabel('epoch')  \n",
    "plt.legend(['sgd+nesterov'], loc='upper right')  \n",
    "\n",
    "plt.show()"
   ]
  },
  {
   "cell_type": "code",
   "execution_count": 90,
   "metadata": {},
   "outputs": [
    {
     "data": {
      "image/png": "[encoded data removed]",
      "text/plain": [
       "<matplotlib.figure.Figure at 0x1c260700d0>"
      ]
     },
     "metadata": {},
     "output_type": "display_data"
    }
   ],
   "source": [
    "plt.plot(hist_model.history['loss'])\n",
    "plt.plot(hist_model.history['val_loss'])\n",
    "plt.title('model loss')\n",
    "plt.ylabel('loss')\n",
    "plt.xlabel('epoch')\n",
    "plt.legend(['train', 'test'], loc='upper right');"
   ]
  },
  {
   "cell_type": "code",
   "execution_count": 91,
   "metadata": {
    "scrolled": true
   },
   "outputs": [
    {
     "data": {
      "text/html": [
       "<div>\n",
       "<style>\n",
       "    .dataframe thead tr:only-child th {\n",
       "        text-align: right;\n",
       "    }\n",
       "\n",
       "    .dataframe thead th {\n",
       "        text-align: left;\n",
       "    }\n",
       "\n",
       "    .dataframe tbody tr th {\n",
       "        vertical-align: top;\n",
       "    }\n",
       "</style>\n",
       "<table border=\"1\" class=\"dataframe\">\n",
       "  <thead>\n",
       "    <tr style=\"text-align: right;\">\n",
       "      <th></th>\n",
       "      <th>reconstruction_error</th>\n",
       "      <th>true_class</th>\n",
       "    </tr>\n",
       "  </thead>\n",
       "  <tbody>\n",
       "    <tr>\n",
       "      <th>count</th>\n",
       "      <td>93987.000000</td>\n",
       "      <td>93987.000000</td>\n",
       "    </tr>\n",
       "    <tr>\n",
       "      <th>mean</th>\n",
       "      <td>1.083112</td>\n",
       "      <td>0.001585</td>\n",
       "    </tr>\n",
       "    <tr>\n",
       "      <th>std</th>\n",
       "      <td>3.866195</td>\n",
       "      <td>0.039785</td>\n",
       "    </tr>\n",
       "    <tr>\n",
       "      <th>min</th>\n",
       "      <td>0.148072</td>\n",
       "      <td>0.000000</td>\n",
       "    </tr>\n",
       "    <tr>\n",
       "      <th>25%</th>\n",
       "      <td>0.422435</td>\n",
       "      <td>0.000000</td>\n",
       "    </tr>\n",
       "    <tr>\n",
       "      <th>50%</th>\n",
       "      <td>0.632169</td>\n",
       "      <td>0.000000</td>\n",
       "    </tr>\n",
       "    <tr>\n",
       "      <th>75%</th>\n",
       "      <td>0.970899</td>\n",
       "      <td>0.000000</td>\n",
       "    </tr>\n",
       "    <tr>\n",
       "      <th>max</th>\n",
       "      <td>276.242485</td>\n",
       "      <td>1.000000</td>\n",
       "    </tr>\n",
       "  </tbody>\n",
       "</table>\n",
       "</div>"
      ],
      "text/plain": [
       "       reconstruction_error    true_class\n",
       "count          93987.000000  93987.000000\n",
       "mean               1.083112      0.001585\n",
       "std                3.866195      0.039785\n",
       "min                0.148072      0.000000\n",
       "25%                0.422435      0.000000\n",
       "50%                0.632169      0.000000\n",
       "75%                0.970899      0.000000\n",
       "max              276.242485      1.000000"
      ]
     },
     "execution_count": 91,
     "metadata": {},
     "output_type": "execute_result"
    }
   ],
   "source": [
    "predictions = model.predict(X_test)\n",
    "mse = np.mean(np.power(X_test - predictions, 2), axis=1)\n",
    "error_df = pd.DataFrame({'reconstruction_error': mse,\n",
    "                        'true_class': y_test})\n",
    "error_df.describe()"
   ]
  },
  {
   "cell_type": "markdown",
   "metadata": {},
   "source": [
    "## Reconstruction error without fraud"
   ]
  },
  {
   "cell_type": "code",
   "execution_count": 92,
   "metadata": {
    "scrolled": false
   },
   "outputs": [
    {
     "data": {
      "image/png": "[encoded data removed]",
      "text/plain": [
       "<matplotlib.figure.Figure at 0x1c26127950>"
      ]
     },
     "metadata": {},
     "output_type": "display_data"
    }
   ],
   "source": [
    "fig = plt.figure()\n",
    "ax = fig.add_subplot(111)\n",
    "normal_error_df = error_df[(error_df['true_class']== 0) & (error_df['reconstruction_error'] < 10)]\n",
    "_ = ax.hist(normal_error_df.reconstruction_error.values, bins=10)"
   ]
  },
  {
   "cell_type": "markdown",
   "metadata": {},
   "source": [
    "## Reconstruction error with fraud"
   ]
  },
  {
   "cell_type": "code",
   "execution_count": 93,
   "metadata": {
    "scrolled": true
   },
   "outputs": [
    {
     "data": {
      "image/png": "[encoded data removed]",
      "text/plain": [
       "<matplotlib.figure.Figure at 0x1c264ddc50>"
      ]
     },
     "metadata": {},
     "output_type": "display_data"
    }
   ],
   "source": [
    "fig = plt.figure()\n",
    "ax = fig.add_subplot(111)\n",
    "fraud_error_df = error_df[error_df['true_class'] == 1]\n",
    "_ = ax.hist(fraud_error_df.reconstruction_error.values, bins=10)"
   ]
  },
  {
   "cell_type": "code",
   "execution_count": 94,
   "metadata": {
    "collapsed": true
   },
   "outputs": [],
   "source": [
    "from sklearn.metrics import (confusion_matrix, precision_recall_curve, auc,\n",
    "                             roc_curve, recall_score, classification_report, f1_score,\n",
    "                             precision_recall_fscore_support)"
   ]
  },
  {
   "cell_type": "code",
   "execution_count": 95,
   "metadata": {
    "scrolled": true
   },
   "outputs": [
    {
     "data": {
      "image/png": "[encoded data removed]",
      "text/plain": [
       "<matplotlib.figure.Figure at 0x1c2605d590>"
      ]
     },
     "metadata": {},
     "output_type": "display_data"
    }
   ],
   "source": [
    "fpr, tpr, thresholds = roc_curve(error_df.true_class, error_df.reconstruction_error)\n",
    "roc_auc = auc(fpr, tpr)\n",
    "\n",
    "plt.title('Receiver Operating Characteristic')\n",
    "plt.plot(fpr, tpr, label='AUC = %0.4f'% roc_auc)\n",
    "plt.legend(loc='lower right')\n",
    "plt.plot([0,1],[0,1],'r--')\n",
    "plt.xlim([-0.001, 1])\n",
    "plt.ylim([0, 1.001])\n",
    "plt.ylabel('True Positive Rate')\n",
    "plt.xlabel('False Positive Rate')\n",
    "plt.show();"
   ]
  },
  {
   "cell_type": "code",
   "execution_count": 98,
   "metadata": {},
   "outputs": [
    {
     "data": {
      "image/png": "[encoded data removed]",
      "text/plain": [
       "<matplotlib.figure.Figure at 0x1c26041ed0>"
      ]
     },
     "metadata": {},
     "output_type": "display_data"
    }
   ],
   "source": [
    "threshold = 2.9\n",
    "LABELS = [\"Normal\", \"Fraud\"]\n",
    "\n",
    "y_pred = [1 if e > threshold else 0 for e in error_df.reconstruction_error.values]\n",
    "conf_matrix = confusion_matrix(error_df.true_class, y_pred)\n",
    "plt.figure(figsize=(12, 12))\n",
    "sns.heatmap(conf_matrix, xticklabels=LABELS, yticklabels=LABELS, annot=True, fmt=\"d\");\n",
    "plt.title(\"Confusion matrix\")\n",
    "plt.ylabel('True class')\n",
    "plt.xlabel('Predicted class')\n",
    "plt.show()"
   ]
  }
 ],
 "metadata": {
  "kernelspec": {
   "display_name": "Python 2",
   "language": "python",
   "name": "python2"
  },
  "language_info": {
   "codemirror_mode": {
    "name": "ipython",
    "version": 2
   },
   "file_extension": ".py",
   "mimetype": "text/x-python",
   "name": "python",
   "nbconvert_exporter": "python",
   "pygments_lexer": "ipython2",
   "version": "2.7.13"
  }
 },
 "nbformat": 4,
 "nbformat_minor": 2
}
