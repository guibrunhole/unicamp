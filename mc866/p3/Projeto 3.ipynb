{
 "cells": [
  {
   "cell_type": "code",
   "execution_count": 3,
   "metadata": {
    "collapsed": true
   },
   "outputs": [],
   "source": []
  },
  {
   "cell_type": "code",
   "execution_count": 7,
   "metadata": {},
   "outputs": [
    {
     "name": "stdout",
     "output_type": "stream",
     "text": [
      "number of missclassification: 5977\n"
     ]
    }
   ],
   "source": [
    "# Setup code for this notebook\n",
    "import sys\n",
    "import numpy as np\n",
    "sys.path.insert(0, 'utils')\n",
    "from utils import *\n",
    "\n",
    "\"\"\"\n",
    "Input:      \n",
    "      in_train: a [number of samples x number of features] matrix with the training data\n",
    "      out_train: a [number of samples x labels] matrix with the labels of the training data\n",
    "      in_test: a [number of test samples x number of features] matrix with the testing data\n",
    "      k: the number of K, of course\n",
    "Output:\n",
    "      labels: the number of neighbors for each label for the in_test array\n",
    "\"\"\"\n",
    "\n",
    "# Euclidean distance\n",
    "def euclidean_distance (x,y):\n",
    "      return np.sqrt(np.power(x-y,2).sum(axis=1))\n",
    "\n",
    "def run_knn (in_train, out_train, in_test, k):\n",
    "      size_in_train = in_train.shape\n",
    "      size_out_train = out_train.shape\n",
    "      size_in_test = in_test.shape\n",
    "\n",
    "      #The labels array that will be returned\n",
    "      labels = np.zeros ([size_in_test[0], size_out_train[1]])\n",
    "\n",
    "      for i in range(size_in_test[0]):\n",
    "           # Computing the distance from the sample test to the training set\n",
    "           rpt_test = np.tile (in_test[i,:], (size_in_train[0], 1))\n",
    "           dists = euclidean_distance (rpt_test,in_train)\n",
    "\n",
    "           # Sorting the distances and getting the k nearest neighbors\n",
    "           index_sort = np.argsort (dists)\n",
    "           pos_labels = index_sort[:k]\n",
    "           closeness = out_train [pos_labels]\n",
    "\n",
    "           # The final label will be the highest value in the row\n",
    "           labels[i] = closeness.sum(axis=0)\n",
    "\n",
    "      return labels\n",
    "\n",
    "def main():\n",
    "      # loading the data set\n",
    "      #dataset = read_csv ('documents/data.csv')\n",
    "      dataset = np.genfromtxt('documents/data.csv', delimiter=',')\n",
    "\n",
    "      # Number of samples and features + label (the last position of the array is the class label)\n",
    "      [nsp, feat] = dataset.shape\n",
    "\n",
    "      # Shuffling the dataset\n",
    "      np.random.shuffle(dataset)\n",
    "\n",
    "      # Getting 70% for training and 30% for tests\n",
    "      sli = int(round(nsp*0.7))\n",
    "      in_train = dataset[0:sli,0:feat-1]\n",
    "      out_train = ind2vec((dataset[0:sli,feat-1])-1)\n",
    "      in_test = dataset[sli:nsp,0:feat-1]\n",
    "      out_test = ind2vec(dataset[sli:nsp,feat-1]-1)\n",
    "\n",
    "      res = run_knn (in_train, out_train, in_test, 7)\n",
    "\n",
    "      print('number of missclassification: {0}'.format(cont_error (out_test, res)))\n",
    "\n",
    "main()"
   ]
  },
  {
   "cell_type": "code",
   "execution_count": null,
   "metadata": {
    "collapsed": true
   },
   "outputs": [],
   "source": [
    "from sklearn.neighbors import NearestNeighbors\n",
    "import numpy as np\n",
    "\n",
    "_dataset = np.genfromtxt('documents/data.csv', delimiter=',')\n",
    "\n",
    "nbrs = NearestNeighbors(n_neighbors=2, algorithm='ball_tree').fit(X)\n",
    "distances, indices = nbrs.kneighbors(_dataset)\n",
    "indices "
   ]
  },
  {
   "cell_type": "code",
   "execution_count": null,
   "metadata": {
    "collapsed": true
   },
   "outputs": [],
   "source": []
  }
 ],
 "metadata": {
  "kernelspec": {
   "display_name": "Python 3",
   "language": "python",
   "name": "python3"
  },
  "language_info": {
   "codemirror_mode": {
    "name": "ipython",
    "version": 3
   },
   "file_extension": ".py",
   "mimetype": "text/x-python",
   "name": "python",
   "nbconvert_exporter": "python",
   "pygments_lexer": "ipython3",
   "version": "3.6.3"
  }
 },
 "nbformat": 4,
 "nbformat_minor": 2
}
