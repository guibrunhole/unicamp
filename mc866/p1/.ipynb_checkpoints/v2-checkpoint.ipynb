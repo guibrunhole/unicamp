{
 "cells": [
  {
   "cell_type": "code",
   "execution_count": 49,
   "metadata": {},
   "outputs": [
    {
     "ename": "ImportError",
     "evalue": "No module named snips",
     "output_type": "error",
     "traceback": [
      "\u001b[0;31m---------------------------------------------------------------------------\u001b[0m",
      "\u001b[0;31mImportError\u001b[0m                               Traceback (most recent call last)",
      "\u001b[0;32m<ipython-input-49-c455b694ca21>\u001b[0m in \u001b[0;36m<module>\u001b[0;34m()\u001b[0m\n\u001b[1;32m      6\u001b[0m \u001b[0;32mimport\u001b[0m \u001b[0mpandas\u001b[0m \u001b[0;32mas\u001b[0m \u001b[0mpd\u001b[0m\u001b[0;34m\u001b[0m\u001b[0m\n\u001b[1;32m      7\u001b[0m \u001b[0mget_ipython\u001b[0m\u001b[0;34m(\u001b[0m\u001b[0;34m)\u001b[0m\u001b[0;34m.\u001b[0m\u001b[0mmagic\u001b[0m\u001b[0;34m(\u001b[0m\u001b[0;34mu'matplotlib inline'\u001b[0m\u001b[0;34m)\u001b[0m\u001b[0;34m\u001b[0m\u001b[0m\n\u001b[0;32m----> 8\u001b[0;31m \u001b[0;32mimport\u001b[0m \u001b[0msnips\u001b[0m \u001b[0;32mas\u001b[0m \u001b[0msnp\u001b[0m\u001b[0;34m\u001b[0m\u001b[0m\n\u001b[0m",
      "\u001b[0;31mImportError\u001b[0m: No module named snips"
     ]
    }
   ],
   "source": [
    "import matplotlib.pyplot as plt\n",
    "import numpy as np\n",
    "from sklearn import linear_model\n",
    "from sklearn.metrics import mean_squared_error, r2_score\n",
    "\n",
    "import pandas as pd\n",
    "%matplotlib inline\n",
    "import snips as snp"
   ]
  },
  {
   "cell_type": "code",
   "execution_count": 2,
   "metadata": {},
   "outputs": [],
   "source": [
    "test_file = pd.read_csv(\"/guibrunhole/unicamp/mc866/p1/year-prediction-msd-test.txt\")\n",
    "train_file = pd.read_csv(\"/guibrunhole/unicamp/mc866/p1/year-prediction-msd-train.txt\")"
   ]
  },
  {
   "cell_type": "code",
   "execution_count": 3,
   "metadata": {
    "collapsed": true
   },
   "outputs": [],
   "source": [
    "new_columns_names = []\n",
    "\n",
    "new_columns_names.append('target')\n",
    "\n",
    "for i in range(len(train_file.columns) -1):\n",
    "    name = 'column_'+str(i)\n",
    "    new_columns_names.append(name)\n",
    "    \n",
    "old_columns_names = train_file.columns\n",
    "train_file.rename(columns=dict(zip(old_columns_names, new_columns_names)), inplace=True)\n",
    "\n",
    "old_columns_names = test_file.columns\n",
    "test_file.rename(columns=dict(zip(old_columns_names, new_columns_names)), inplace=True)"
   ]
  },
  {
   "cell_type": "code",
   "execution_count": 4,
   "metadata": {
    "collapsed": true
   },
   "outputs": [],
   "source": [
    "reg = linear_model.LinearRegression()"
   ]
  },
  {
   "cell_type": "code",
   "execution_count": 5,
   "metadata": {
    "collapsed": true
   },
   "outputs": [],
   "source": [
    "y_train = train_file.target\n",
    "y_test = test_file.target"
   ]
  },
  {
   "cell_type": "code",
   "execution_count": 6,
   "metadata": {},
   "outputs": [
    {
     "name": "stdout",
     "output_type": "stream",
     "text": [
      "463714\n",
      "36284\n"
     ]
    }
   ],
   "source": [
    "print len(y_train)\n",
    "print len(y_test)"
   ]
  },
  {
   "cell_type": "code",
   "execution_count": 7,
   "metadata": {
    "collapsed": true
   },
   "outputs": [],
   "source": [
    "X_train = train_file.drop('target', axis=1)\n",
    "X_test = test_file.drop('target', axis=1)"
   ]
  },
  {
   "cell_type": "code",
   "execution_count": 8,
   "metadata": {},
   "outputs": [
    {
     "name": "stdout",
     "output_type": "stream",
     "text": [
      "463714\n",
      "36284\n"
     ]
    }
   ],
   "source": [
    "print len(X_train)\n",
    "print len(X_test)"
   ]
  },
  {
   "cell_type": "code",
   "execution_count": 9,
   "metadata": {},
   "outputs": [
    {
     "data": {
      "text/plain": [
       "LinearRegression(copy_X=True, fit_intercept=True, n_jobs=1, normalize=False)"
      ]
     },
     "execution_count": 9,
     "metadata": {},
     "output_type": "execute_result"
    }
   ],
   "source": [
    "reg.fit(X_train, y_train)"
   ]
  },
  {
   "cell_type": "code",
   "execution_count": 27,
   "metadata": {},
   "outputs": [],
   "source": [
    "y_pred = reg.predict(X_test)\n",
    "y_pred = [int(i) for i in y_pred]"
   ]
  },
  {
   "cell_type": "code",
   "execution_count": 31,
   "metadata": {},
   "outputs": [
    {
     "name": "stdout",
     "output_type": "stream",
     "text": [
      "Mean squared error: 91.58\n",
      "Variance score: 0.23\n"
     ]
    }
   ],
   "source": [
    "# The coefficients\n",
    "# print('Coefficients: \\n', reg.coef_)\n",
    "# The mean squared error\n",
    "print(\"Mean squared error: %.2f\"\n",
    "      % mean_squared_error(y_test, y_pred))\n",
    "# Explained variance score: 1 is perfect prediction\n",
    "print('Variance score: %.2f' % r2_score(y_test, y_pred))\n"
   ]
  },
  {
   "cell_type": "markdown",
   "metadata": {},
   "source": [
    "--------------------------------------------------"
   ]
  },
  {
   "cell_type": "markdown",
   "metadata": {},
   "source": [
    "### Verificando a correlação das variáveis para com a nossa coluna *target*"
   ]
  },
  {
   "cell_type": "code",
   "execution_count": 40,
   "metadata": {},
   "outputs": [],
   "source": [
    "from scipy import stats\n",
    "\n",
    "corr_dict = {}\n",
    "\n",
    "for item in new_columns_names:\n",
    "    corr = stats.pearsonr(train_file['target'],train_file[item])\n",
    "    corr_dict[item] = corr[0]"
   ]
  },
  {
   "cell_type": "code",
   "execution_count": 44,
   "metadata": {},
   "outputs": [
    {
     "data": {
      "text/plain": [
       "[('column_5', -0.1887884364966213),\n",
       " ('column_2', -0.13838617376833973),\n",
       " ('column_62', -0.1271375126618722),\n",
       " ('column_39', -0.12413102944289944),\n",
       " ('column_66', -0.10327564900324464),\n",
       " ('column_35', -0.10158693273505541),\n",
       " ('column_45', -0.10145092086417098),\n",
       " ('column_68', -0.098396774340723109),\n",
       " ('column_11', -0.097264168461314457),\n",
       " ('column_56', -0.095801717958044028),\n",
       " ('column_58', -0.093443895911619709),\n",
       " ('column_32', -0.091487400795364479),\n",
       " ('column_77', -0.087075697116236875),\n",
       " ('column_30', -0.073347179826328476),\n",
       " ('column_59', -0.066958022717384005),\n",
       " ('column_71', -0.066441238040705161),\n",
       " ('column_49', -0.061713677102830981),\n",
       " ('column_40', -0.061352965509704996),\n",
       " ('column_23', -0.059435018323957409),\n",
       " ('column_20', -0.058737151646742744),\n",
       " ('column_89', -0.055894631451292712),\n",
       " ('column_51', -0.053914572767948581),\n",
       " ('column_65', -0.053312520831026659),\n",
       " ('column_85', -0.053012829850963061),\n",
       " ('column_53', -0.050771715825614384),\n",
       " ('column_47', -0.047814788736786837),\n",
       " ('column_34', -0.043406063266049295),\n",
       " ('column_61', -0.042161420065407136),\n",
       " ('column_36', -0.040935147382315761),\n",
       " ('column_80', -0.039637876065695132),\n",
       " ('column_64', -0.038642373361815772),\n",
       " ('column_87', -0.037883708242205445),\n",
       " ('column_7', -0.035558681101037166),\n",
       " ('column_48', -0.031097830102328628),\n",
       " ('column_60', -0.024471150445459135),\n",
       " ('column_26', -0.02306211249623975),\n",
       " ('column_8', -0.021743622369254034),\n",
       " ('column_25', -0.019245436867600656),\n",
       " ('column_76', -0.01361701925351764),\n",
       " ('column_14', -0.0095258776451899556),\n",
       " ('column_79', -0.0059773282943089024),\n",
       " ('column_57', -0.0056095621043732958),\n",
       " ('column_70', -0.0055451590377437188),\n",
       " ('column_18', -0.0052107200713030558),\n",
       " ('column_3', -0.0034830508822905081),\n",
       " ('column_42', -0.0006368255667064495),\n",
       " ('column_63', 0.00049272200061147107),\n",
       " ('column_81', 0.0031285199237110345),\n",
       " ('column_55', 0.0063644185959260257),\n",
       " ('column_27', 0.0081455525738816092),\n",
       " ('column_88', 0.0098459992399695297),\n",
       " ('column_54', 0.010833720968362447),\n",
       " ('column_44', 0.011512647734898232),\n",
       " ('column_43', 0.012565816209529049),\n",
       " ('column_75', 0.013029256195743386),\n",
       " ('column_41', 0.013616949874750177),\n",
       " ('column_82', 0.013649676069554008),\n",
       " ('column_4', 0.017158173509327405),\n",
       " ('column_29', 0.017751933246107323),\n",
       " ('column_17', 0.020549820214501285),\n",
       " ('column_1', 0.022569714446237326),\n",
       " ('column_12', 0.022794430622377172),\n",
       " ('column_86', 0.025494010856671166),\n",
       " ('column_31', 0.02613610746871077),\n",
       " ('column_50', 0.026662639314704709),\n",
       " ('column_16', 0.02805462207735003),\n",
       " ('column_83', 0.028460776185127299),\n",
       " ('column_74', 0.028775514114033326),\n",
       " ('column_10', 0.029575112292550824),\n",
       " ('column_15', 0.031520575906094798),\n",
       " ('column_78', 0.031882319545299777),\n",
       " ('column_9', 0.034973652340543143),\n",
       " ('column_33', 0.042379688059563589),\n",
       " ('column_22', 0.044947500305439349),\n",
       " ('column_69', 0.047187525798278666),\n",
       " ('column_21', 0.048426047797486667),\n",
       " ('column_84', 0.060670503146906245),\n",
       " ('column_24', 0.06488147882523923),\n",
       " ('column_38', 0.070597900522395465),\n",
       " ('column_28', 0.073482755140257858),\n",
       " ('column_37', 0.073764041247599846),\n",
       " ('column_52', 0.073889141155656299),\n",
       " ('column_13', 0.077826682197905478),\n",
       " ('column_67', 0.081561781117271928),\n",
       " ('column_73', 0.082245315662763344),\n",
       " ('column_72', 0.084049321113688708),\n",
       " ('column_19', 0.086189435127448574),\n",
       " ('column_46', 0.096467649721486914),\n",
       " ('column_6', 0.11117022547942813),\n",
       " ('column_0', 0.22723283758831941),\n",
       " ('target', 1.0)]"
      ]
     },
     "execution_count": 44,
     "metadata": {},
     "output_type": "execute_result"
    }
   ],
   "source": [
    "from operator import itemgetter\n",
    "sorted(corr_dict.items(), key=itemgetter(1))"
   ]
  },
  {
   "cell_type": "markdown",
   "metadata": {},
   "source": [
    "Como pode-se perceber existem 9 variáveis que tem uma correlação maior em módulo do que 0.1 com a nossa coluna *target*.\n",
    "Inicialmente farei os testes apenas com a *column_0*, que foi a que apresentou um maior valor e posteriormente irei adicionando as outras colunas :)"
   ]
  },
  {
   "cell_type": "markdown",
   "metadata": {},
   "source": [
    "## Separando os dados de treino"
   ]
  },
  {
   "cell_type": "code",
   "execution_count": 86,
   "metadata": {
    "collapsed": true
   },
   "outputs": [],
   "source": [
    "# first with only one variable\n",
    "X = train_file.as_matrix(columns=[\"column_0\",\"column_6\",\"column_5\",\"column_2\"])  # SGDRegressor is very particular on input \"X\" and insists on a true matrix \n",
    "y = train_file[\"target\"].tolist() # This is the variable we want to predict, SGDRegressor expects a vector-like object"
   ]
  },
  {
   "cell_type": "markdown",
   "metadata": {},
   "source": [
    "## Stochastic Gradient Descent"
   ]
  },
  {
   "cell_type": "code",
   "execution_count": 32,
   "metadata": {
    "collapsed": true
   },
   "outputs": [],
   "source": [
    "from sklearn.linear_model import SGDRegressor\n",
    "\n",
    "# Create an SGDClassifier instance which will have methods to do our linear regression fitting by gradient descent\n",
    "fitter = SGDRegressor(loss=\"squared_loss\", penalty=None)"
   ]
  },
  {
   "cell_type": "code",
   "execution_count": 87,
   "metadata": {},
   "outputs": [
    {
     "data": {
      "text/plain": [
       "SGDRegressor(alpha=0.0001, average=False, epsilon=0.1, eta0=0.01,\n",
       "       fit_intercept=True, l1_ratio=0.15, learning_rate='invscaling',\n",
       "       loss='squared_loss', n_iter=5, penalty=None, power_t=0.25,\n",
       "       random_state=None, shuffle=True, verbose=0, warm_start=False)"
      ]
     },
     "execution_count": 87,
     "metadata": {},
     "output_type": "execute_result"
    }
   ],
   "source": [
    "fitter.fit(X, y)  # Do the fit by calling a method of our object"
   ]
  },
  {
   "cell_type": "code",
   "execution_count": 88,
   "metadata": {
    "scrolled": true
   },
   "outputs": [
    {
     "data": {
      "text/plain": [
       "[<matplotlib.lines.Line2D at 0x7fd185baa0d0>,\n",
       " <matplotlib.lines.Line2D at 0x7fd185baaa50>,\n",
       " <matplotlib.lines.Line2D at 0x7fd185baab50>,\n",
       " <matplotlib.lines.Line2D at 0x7fd185baac50>]"
      ]
     },
     "execution_count": 88,
     "metadata": {},
     "output_type": "execute_result"
    },
    {
     "data": {
      "image/png": "[encoded data removed]",
      "text/plain": [
       "<matplotlib.figure.Figure at 0x7fd185c10090>"
      ]
     },
     "metadata": {},
     "output_type": "display_data"
    }
   ],
   "source": [
    "xs = test_file.as_matrix(columns=[\"column_0\",\"column_6\",\"column_5\",\"column_2\"])\n",
    "ys = test_file.as_matrix(columns=[\"target\"])\n",
    "ys = ys.reshape(36284,)\n",
    "\n",
    "new_ys = fitter.predict(xs)\n",
    "\n",
    "fig, ax = plt.subplots()\n",
    "ax.scatter(test_file[\"column_0\"], test_file[\"target\"])\n",
    "# snp.labs(\"population\", \"profit\", \"Data vs. Linear Regression Gradient Descent Fit\")\n",
    "ax.plot(xs, new_ys, color=\"red\")"
   ]
  },
  {
   "cell_type": "code",
   "execution_count": 100,
   "metadata": {},
   "outputs": [
    {
     "name": "stdout",
     "output_type": "stream",
     "text": [
      "Mean Squared Error:  107.27876229\n",
      "Variance score: -7.19\n"
     ]
    }
   ],
   "source": [
    "print 'Mean Squared Error: ',mean_squared_error(new_ys, ys)\n",
    "# Explained variance score: 1 is perfect prediction\n",
    "print('Variance score: %.2f' % r2_score(new_ys, ys))"
   ]
  },
  {
   "cell_type": "markdown",
   "metadata": {},
   "source": [
    "## Usando Regressão Linear "
   ]
  },
  {
   "cell_type": "markdown",
   "metadata": {},
   "source": [
    "### Apenas uma variável :)"
   ]
  },
  {
   "cell_type": "code",
   "execution_count": 94,
   "metadata": {},
   "outputs": [
    {
     "data": {
      "text/plain": [
       "LinearRegression(copy_X=True, fit_intercept=True, n_jobs=1, normalize=False)"
      ]
     },
     "execution_count": 94,
     "metadata": {},
     "output_type": "execute_result"
    },
    {
     "name": "stdout",
     "output_type": "stream",
     "text": [
      "\n"
     ]
    }
   ],
   "source": [
    "## linear regression method\n",
    "norm_eqn = linear_model.LinearRegression()\n",
    "norm_eqn.fit(X, y)"
   ]
  },
  {
   "cell_type": "code",
   "execution_count": 95,
   "metadata": {},
   "outputs": [
    {
     "data": {
      "text/plain": [
       "[<matplotlib.lines.Line2D at 0x7fd185aaa1d0>,\n",
       " <matplotlib.lines.Line2D at 0x7fd185aaab10>,\n",
       " <matplotlib.lines.Line2D at 0x7fd185aaac10>,\n",
       " <matplotlib.lines.Line2D at 0x7fd185aaad10>]"
      ]
     },
     "execution_count": 95,
     "metadata": {},
     "output_type": "execute_result"
    },
    {
     "data": {
      "image/png": "[encoded data removed]",
      "text/plain": [
       "<matplotlib.figure.Figure at 0x7fd1863e26d0>"
      ]
     },
     "metadata": {},
     "output_type": "display_data"
    }
   ],
   "source": [
    "new_ys = norm_eqn.predict(xs)\n",
    "\n",
    "fig, ax = plt.subplots()\n",
    "ax.scatter(test_file[\"column_0\"], test_file[\"target\"])\n",
    "# snp.labs(\"population\", \"profit\", \"Data vs. Linear Regression Gradient Descent Fit\")\n",
    "ax.plot(xs, new_ys, color=\"green\")"
   ]
  },
  {
   "cell_type": "code",
   "execution_count": 96,
   "metadata": {
    "scrolled": true
   },
   "outputs": [
    {
     "name": "stdout",
     "output_type": "stream",
     "text": [
      "Nosso modelo está com precisão de: "
     ]
    },
    {
     "name": "stderr",
     "output_type": "stream",
     "text": [
      "/home/gbrunhole/.local/lib/python2.7/site-packages/sklearn/utils/validation.py:395: DeprecationWarning: Passing 1d arrays as data is deprecated in 0.17 and will raise ValueError in 0.19. Reshape your data either using X.reshape(-1, 1) if your data has a single feature or X.reshape(1, -1) if it contains a single sample.\n",
      "  DeprecationWarning)\n"
     ]
    },
    {
     "ename": "ValueError",
     "evalue": "shapes (1,36284) and (4,) not aligned: 36284 (dim 1) != 4 (dim 0)",
     "output_type": "error",
     "traceback": [
      "\u001b[0;31m---------------------------------------------------------------------------\u001b[0m",
      "\u001b[0;31mValueError\u001b[0m                                Traceback (most recent call last)",
      "\u001b[0;32m<ipython-input-96-cd6cb28e793d>\u001b[0m in \u001b[0;36m<module>\u001b[0;34m()\u001b[0m\n\u001b[0;32m----> 1\u001b[0;31m \u001b[0;32mprint\u001b[0m \u001b[0;34m'Nosso modelo está com precisão de: '\u001b[0m\u001b[0;34m,\u001b[0m\u001b[0mnorm_eqn\u001b[0m\u001b[0;34m.\u001b[0m\u001b[0mscore\u001b[0m\u001b[0;34m(\u001b[0m\u001b[0mnew_ys\u001b[0m\u001b[0;34m,\u001b[0m \u001b[0mys\u001b[0m\u001b[0;34m)\u001b[0m\u001b[0;34m\u001b[0m\u001b[0m\n\u001b[0m",
      "\u001b[0;32m/home/gbrunhole/.local/lib/python2.7/site-packages/sklearn/base.pyc\u001b[0m in \u001b[0;36mscore\u001b[0;34m(self, X, y, sample_weight)\u001b[0m\n\u001b[1;32m    384\u001b[0m \u001b[0;34m\u001b[0m\u001b[0m\n\u001b[1;32m    385\u001b[0m         \u001b[0;32mfrom\u001b[0m \u001b[0;34m.\u001b[0m\u001b[0mmetrics\u001b[0m \u001b[0;32mimport\u001b[0m \u001b[0mr2_score\u001b[0m\u001b[0;34m\u001b[0m\u001b[0m\n\u001b[0;32m--> 386\u001b[0;31m         return r2_score(y, self.predict(X), sample_weight=sample_weight,\n\u001b[0m\u001b[1;32m    387\u001b[0m                         multioutput='variance_weighted')\n\u001b[1;32m    388\u001b[0m \u001b[0;34m\u001b[0m\u001b[0m\n",
      "\u001b[0;32m/home/gbrunhole/.local/lib/python2.7/site-packages/sklearn/linear_model/base.pyc\u001b[0m in \u001b[0;36mpredict\u001b[0;34m(self, X)\u001b[0m\n\u001b[1;32m    266\u001b[0m             \u001b[0mReturns\u001b[0m \u001b[0mpredicted\u001b[0m \u001b[0mvalues\u001b[0m\u001b[0;34m.\u001b[0m\u001b[0;34m\u001b[0m\u001b[0m\n\u001b[1;32m    267\u001b[0m         \"\"\"\n\u001b[0;32m--> 268\u001b[0;31m         \u001b[0;32mreturn\u001b[0m \u001b[0mself\u001b[0m\u001b[0;34m.\u001b[0m\u001b[0m_decision_function\u001b[0m\u001b[0;34m(\u001b[0m\u001b[0mX\u001b[0m\u001b[0;34m)\u001b[0m\u001b[0;34m\u001b[0m\u001b[0m\n\u001b[0m\u001b[1;32m    269\u001b[0m \u001b[0;34m\u001b[0m\u001b[0m\n\u001b[1;32m    270\u001b[0m     \u001b[0m_preprocess_data\u001b[0m \u001b[0;34m=\u001b[0m \u001b[0mstaticmethod\u001b[0m\u001b[0;34m(\u001b[0m\u001b[0m_preprocess_data\u001b[0m\u001b[0;34m)\u001b[0m\u001b[0;34m\u001b[0m\u001b[0m\n",
      "\u001b[0;32m/home/gbrunhole/.local/lib/python2.7/site-packages/sklearn/linear_model/base.pyc\u001b[0m in \u001b[0;36m_decision_function\u001b[0;34m(self, X)\u001b[0m\n\u001b[1;32m    251\u001b[0m         \u001b[0mX\u001b[0m \u001b[0;34m=\u001b[0m \u001b[0mcheck_array\u001b[0m\u001b[0;34m(\u001b[0m\u001b[0mX\u001b[0m\u001b[0;34m,\u001b[0m \u001b[0maccept_sparse\u001b[0m\u001b[0;34m=\u001b[0m\u001b[0;34m[\u001b[0m\u001b[0;34m'csr'\u001b[0m\u001b[0;34m,\u001b[0m \u001b[0;34m'csc'\u001b[0m\u001b[0;34m,\u001b[0m \u001b[0;34m'coo'\u001b[0m\u001b[0;34m]\u001b[0m\u001b[0;34m)\u001b[0m\u001b[0;34m\u001b[0m\u001b[0m\n\u001b[1;32m    252\u001b[0m         return safe_sparse_dot(X, self.coef_.T,\n\u001b[0;32m--> 253\u001b[0;31m                                dense_output=True) + self.intercept_\n\u001b[0m\u001b[1;32m    254\u001b[0m \u001b[0;34m\u001b[0m\u001b[0m\n\u001b[1;32m    255\u001b[0m     \u001b[0;32mdef\u001b[0m \u001b[0mpredict\u001b[0m\u001b[0;34m(\u001b[0m\u001b[0mself\u001b[0m\u001b[0;34m,\u001b[0m \u001b[0mX\u001b[0m\u001b[0;34m)\u001b[0m\u001b[0;34m:\u001b[0m\u001b[0;34m\u001b[0m\u001b[0m\n",
      "\u001b[0;32m/home/gbrunhole/.local/lib/python2.7/site-packages/sklearn/utils/extmath.pyc\u001b[0m in \u001b[0;36msafe_sparse_dot\u001b[0;34m(a, b, dense_output)\u001b[0m\n\u001b[1;32m    187\u001b[0m         \u001b[0;32mreturn\u001b[0m \u001b[0mret\u001b[0m\u001b[0;34m\u001b[0m\u001b[0m\n\u001b[1;32m    188\u001b[0m     \u001b[0;32melse\u001b[0m\u001b[0;34m:\u001b[0m\u001b[0;34m\u001b[0m\u001b[0m\n\u001b[0;32m--> 189\u001b[0;31m         \u001b[0;32mreturn\u001b[0m \u001b[0mfast_dot\u001b[0m\u001b[0;34m(\u001b[0m\u001b[0ma\u001b[0m\u001b[0;34m,\u001b[0m \u001b[0mb\u001b[0m\u001b[0;34m)\u001b[0m\u001b[0;34m\u001b[0m\u001b[0m\n\u001b[0m\u001b[1;32m    190\u001b[0m \u001b[0;34m\u001b[0m\u001b[0m\n\u001b[1;32m    191\u001b[0m \u001b[0;34m\u001b[0m\u001b[0m\n",
      "\u001b[0;31mValueError\u001b[0m: shapes (1,36284) and (4,) not aligned: 36284 (dim 1) != 4 (dim 0)"
     ]
    }
   ],
   "source": [
    "print 'Nosso modelo está com precisão de: ',norm_eqn.score(new_ys, ys)"
   ]
  },
  {
   "cell_type": "markdown",
   "metadata": {},
   "source": [
    "### Visualizando o custo"
   ]
  },
  {
   "cell_type": "code",
   "execution_count": null,
   "metadata": {
    "collapsed": true
   },
   "outputs": [],
   "source": [
    "from sklearn.metrics import mean_squared_error as mse"
   ]
  },
  {
   "cell_type": "markdown",
   "metadata": {},
   "source": [
    "### Usando mais variáveis"
   ]
  },
  {
   "cell_type": "code",
   "execution_count": null,
   "metadata": {
    "collapsed": true
   },
   "outputs": [],
   "source": []
  }
 ],
 "metadata": {
  "kernelspec": {
   "display_name": "Python 2",
   "language": "python",
   "name": "python2"
  },
  "language_info": {
   "codemirror_mode": {
    "name": "ipython",
    "version": 2
   },
   "file_extension": ".py",
   "mimetype": "text/x-python",
   "name": "python",
   "nbconvert_exporter": "python",
   "pygments_lexer": "ipython2",
   "version": "2.7.13"
  }
 },
 "nbformat": 4,
 "nbformat_minor": 2
}
